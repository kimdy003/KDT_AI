{
  "nbformat": 4,
  "nbformat_minor": 0,
  "metadata": {
    "anaconda-cloud": {},
    "kernelspec": {
      "display_name": "Python [conda root]",
      "language": "python",
      "name": "conda-root-py"
    },
    "language_info": {
      "codemirror_mode": {
        "name": "ipython",
        "version": 3
      },
      "file_extension": ".py",
      "mimetype": "text/x-python",
      "name": "python",
      "nbconvert_exporter": "python",
      "pygments_lexer": "ipython3",
      "version": "3.5.3"
    },
    "colab": {
      "name": "3일차_실습_애플_주식_데이터를_SparkSQL로_처리하기.ipynb",
      "provenance": []
    }
  },
  "cells": [
    {
      "cell_type": "markdown",
      "metadata": {
        "id": "PYwHJBmiz6e5"
      },
      "source": [
        "어제 실습에 사용한 애플 주식 데이터를 SparkSQL을 가지고 동일한 데이터 분석을 해보자. 모든 답은 Pyspark의 SparkSQL을 통해 이뤄져야 한다."
      ]
    },
    {
      "cell_type": "markdown",
      "metadata": {
        "id": "SE0VhL0g1no8"
      },
      "source": [
        "먼저 PySpark과 Py4J를 설치하자"
      ]
    },
    {
      "cell_type": "code",
      "metadata": {
        "id": "YXgIyS_F0Kar",
        "colab": {
          "base_uri": "https://localhost:8080/"
        },
        "outputId": "7be03799-135e-4edf-ba2c-bc7905e964f1"
      },
      "source": [
        "!pip install pyspark==3.0.1 py4j==0.10.9 "
      ],
      "execution_count": 1,
      "outputs": [
        {
          "output_type": "stream",
          "text": [
            "Collecting pyspark==3.0.1\n",
            "  Downloading pyspark-3.0.1.tar.gz (204.2 MB)\n",
            "\u001b[K     |████████████████████████████████| 204.2 MB 31 kB/s \n",
            "\u001b[?25hCollecting py4j==0.10.9\n",
            "  Downloading py4j-0.10.9-py2.py3-none-any.whl (198 kB)\n",
            "\u001b[K     |████████████████████████████████| 198 kB 18.4 MB/s \n",
            "\u001b[?25hBuilding wheels for collected packages: pyspark\n",
            "  Building wheel for pyspark (setup.py) ... \u001b[?25l\u001b[?25hdone\n",
            "  Created wheel for pyspark: filename=pyspark-3.0.1-py2.py3-none-any.whl size=204612242 sha256=211f9e99f2adf12268af6d6ce3db11f054a88a704cb6d0e148d4384e4a9c91fc\n",
            "  Stored in directory: /root/.cache/pip/wheels/5e/34/fa/b37b5cef503fc5148b478b2495043ba61b079120b7ff379f9b\n",
            "Successfully built pyspark\n",
            "Installing collected packages: py4j, pyspark\n",
            "Successfully installed py4j-0.10.9 pyspark-3.0.1\n"
          ],
          "name": "stdout"
        }
      ]
    },
    {
      "cell_type": "markdown",
      "metadata": {
        "id": "FNwc3F_Az6e6"
      },
      "source": [
        "#### Spark Session 만들기"
      ]
    },
    {
      "cell_type": "code",
      "metadata": {
        "collapsed": true,
        "id": "RveyavjYz6e7"
      },
      "source": [
        "from pyspark.sql import SparkSession\n",
        "\n",
        "spark = SparkSession \\\n",
        "    .builder \\\n",
        "    .appName(\"Python Spark SQL basic example\") \\\n",
        "    .getOrCreate()"
      ],
      "execution_count": 2,
      "outputs": []
    },
    {
      "cell_type": "markdown",
      "metadata": {
        "id": "b0DgR89Sz6e8"
      },
      "source": [
        "#### 애플 주식 CSV 파일 로딩하기: https://pyspark-test-sj.s3-us-west-2.amazonaws.com/appl_stock.csv\n",
        "일단 pandas 데이터프레임으로 로딩해서 Spark 데이터프레임으로 변경한다"
      ]
    },
    {
      "cell_type": "code",
      "metadata": {
        "collapsed": true,
        "id": "FeKmU3Piz6e8"
      },
      "source": [
        "import pandas as pd\n",
        "\n",
        "apple_pandas_df = pd.read_csv(\"https://pyspark-test-sj.s3-us-west-2.amazonaws.com/appl_stock.csv\")\n",
        "apple_spark_df = spark.createDataFrame(apple_pandas_df)"
      ],
      "execution_count": 3,
      "outputs": []
    },
    {
      "cell_type": "markdown",
      "metadata": {
        "id": "uMPH1EyR6sSK"
      },
      "source": [
        "apple_spark_df에 apple_stock이라는 테이블 이름을 준다"
      ]
    },
    {
      "cell_type": "code",
      "metadata": {
        "id": "PyqhjBsC6nL4"
      },
      "source": [
        "apple_spark_df.createOrReplaceTempView(\"apple_stock\")"
      ],
      "execution_count": 4,
      "outputs": []
    },
    {
      "cell_type": "markdown",
      "metadata": {
        "id": "uXj2LCWuz6e_"
      },
      "source": [
        "#### 1> 스키마를 프린트해보기"
      ]
    },
    {
      "cell_type": "code",
      "metadata": {
        "id": "NQR5dwZjz6e_",
        "colab": {
          "base_uri": "https://localhost:8080/"
        },
        "outputId": "f717368a-89a4-4d41-b468-a5e31044b1ea"
      },
      "source": [
        "spark.sql(\"desc apple_stock\")"
      ],
      "execution_count": 5,
      "outputs": [
        {
          "output_type": "execute_result",
          "data": {
            "text/plain": [
              "DataFrame[col_name: string, data_type: string, comment: string]"
            ]
          },
          "metadata": {
            "tags": []
          },
          "execution_count": 5
        }
      ]
    },
    {
      "cell_type": "markdown",
      "metadata": {
        "id": "XFljhmp5z6fA"
      },
      "source": [
        "#### 2> 처음 5개의 레코드를 출력해보기"
      ]
    },
    {
      "cell_type": "code",
      "metadata": {
        "id": "OJQZ7PZDz6fA",
        "colab": {
          "base_uri": "https://localhost:8080/"
        },
        "outputId": "bdf2f739-b5e3-4b2f-ba89-189193d147df"
      },
      "source": [
        "spark.sql(\"SELECT * FROM apple_stock LIMIT 5\").show()"
      ],
      "execution_count": 6,
      "outputs": [
        {
          "output_type": "stream",
          "text": [
            "+----------+----------+----------+----------+----------+---------+------------------+\n",
            "|      Date|      Open|      High|       Low|     Close|   Volume|         Adj Close|\n",
            "+----------+----------+----------+----------+----------+---------+------------------+\n",
            "|2010-01-04|213.429998|214.499996|212.380001|214.009998|123432400|         27.727039|\n",
            "|2010-01-05|214.599998|215.589994|213.249994|214.379993|150476200|         27.774976|\n",
            "|2010-01-06|214.379993|    215.23|210.750004|210.969995|138040000|27.333178000000004|\n",
            "|2010-01-07|    211.75|212.000006|209.050005|    210.58|119282800|          27.28265|\n",
            "|2010-01-08|210.299994|212.000006|209.060005|211.980005|111902700|         27.464034|\n",
            "+----------+----------+----------+----------+----------+---------+------------------+\n",
            "\n"
          ],
          "name": "stdout"
        }
      ]
    },
    {
      "cell_type": "markdown",
      "metadata": {
        "id": "eR1QL8-Z2auU"
      },
      "source": [
        "#### 3> Close 컬럼의 평균값은 얼마인가?"
      ]
    },
    {
      "cell_type": "code",
      "metadata": {
        "id": "ZCQCMa0xz6fB",
        "colab": {
          "base_uri": "https://localhost:8080/"
        },
        "outputId": "2fc726ac-c7c8-45f4-f2ce-3a706703b1fa"
      },
      "source": [
        "spark.sql(\"SELECT AVG(close) FROM apple_stock\").show()"
      ],
      "execution_count": 7,
      "outputs": [
        {
          "output_type": "stream",
          "text": [
            "+-----------------+\n",
            "|       avg(close)|\n",
            "+-----------------+\n",
            "|312.9270656379114|\n",
            "+-----------------+\n",
            "\n"
          ],
          "name": "stdout"
        }
      ]
    },
    {
      "cell_type": "markdown",
      "metadata": {
        "id": "YnE6Cbg_IONn"
      },
      "source": [
        "#### 4> Volume 컬럼의 최대값과 최소값은?"
      ]
    },
    {
      "cell_type": "code",
      "metadata": {
        "id": "I5mvFy0eIVPx",
        "colab": {
          "base_uri": "https://localhost:8080/"
        },
        "outputId": "34c9a235-6147-42a0-fdce-5a7aa2531f20"
      },
      "source": [
        "spark.sql(\"SELECT MAX(volume), MIN(volume) FROM apple_stock\").show()"
      ],
      "execution_count": 8,
      "outputs": [
        {
          "output_type": "stream",
          "text": [
            "+-----------+-----------+\n",
            "|max(volume)|min(volume)|\n",
            "+-----------+-----------+\n",
            "|  470249500|   11475900|\n",
            "+-----------+-----------+\n",
            "\n"
          ],
          "name": "stdout"
        }
      ]
    },
    {
      "cell_type": "markdown",
      "metadata": {
        "id": "ax1Of8ATz6fD"
      },
      "source": [
        "#### 보너스 질문: HV ratio라는 이름의 새로운 컬럼을 추가한 데이터프레임을 만들기. 이 컬럼의 값은 High/Volume으로 계산된다"
      ]
    },
    {
      "cell_type": "code",
      "metadata": {
        "id": "MkO7rQ3Pz6fD"
      },
      "source": [
        "apple_spark_df_with_hv = spark.sql(\"\"\"\n",
        "    SELECT *, high/volume as hvratio FROM apple_stock\n",
        "\"\"\")   "
      ],
      "execution_count": 9,
      "outputs": []
    },
    {
      "cell_type": "code",
      "metadata": {
        "id": "Ce_bSkvOHEDC",
        "colab": {
          "base_uri": "https://localhost:8080/"
        },
        "outputId": "020de70a-1664-4bcd-a259-7ede1537d99d"
      },
      "source": [
        "apple_spark_df_with_hv.show(5)"
      ],
      "execution_count": 10,
      "outputs": [
        {
          "output_type": "stream",
          "text": [
            "+----------+----------+----------+----------+----------+---------+------------------+--------------------+\n",
            "|      Date|      Open|      High|       Low|     Close|   Volume|         Adj Close|             hvratio|\n",
            "+----------+----------+----------+----------+----------+---------+------------------+--------------------+\n",
            "|2010-01-04|213.429998|214.499996|212.380001|214.009998|123432400|         27.727039|1.737793286041590...|\n",
            "|2010-01-05|214.599998|215.589994|213.249994|214.379993|150476200|         27.774976|1.432718223878593...|\n",
            "|2010-01-06|214.379993|    215.23|210.750004|210.969995|138040000|27.333178000000004|1.559185743262822...|\n",
            "|2010-01-07|    211.75|212.000006|209.050005|    210.58|119282800|          27.28265|1.777288980473295...|\n",
            "|2010-01-08|210.299994|212.000006|209.060005|211.980005|111902700|         27.464034|1.894503045949740...|\n",
            "+----------+----------+----------+----------+----------+---------+------------------+--------------------+\n",
            "only showing top 5 rows\n",
            "\n"
          ],
          "name": "stdout"
        }
      ]
    },
    {
      "cell_type": "markdown",
      "metadata": {
        "id": "BIROQ8klz6fD"
      },
      "source": [
        "#### 보너스 질문: 월별 Close 컬럼의 평균값은?"
      ]
    },
    {
      "cell_type": "code",
      "metadata": {
        "id": "Q_mr0fO_z6fD",
        "colab": {
          "base_uri": "https://localhost:8080/"
        },
        "outputId": "fbb70a73-45c0-48e6-a562-aa5e43290775"
      },
      "source": [
        "spark.sql(\"\"\"\n",
        "    SELECT Month(date) month, AVG(close) FROM apple_stock GROUP BY 1 ORDER BY 1\n",
        "\"\"\").show()"
      ],
      "execution_count": 11,
      "outputs": [
        {
          "output_type": "stream",
          "text": [
            "+-----+------------------+\n",
            "|month|        avg(close)|\n",
            "+-----+------------------+\n",
            "|    1| 322.2097142571429|\n",
            "|    2| 321.3595563037037|\n",
            "|    3| 332.9115673137254|\n",
            "|    4| 340.5104108150685|\n",
            "|    5|  351.621020857143|\n",
            "|    6|288.12546566000003|\n",
            "|    7| 281.7221621148649|\n",
            "|    8|300.43858096129026|\n",
            "|    9| 301.0763195902777|\n",
            "|   10|308.30552563157903|\n",
            "|   11| 306.2725174895105|\n",
            "|   12|302.35053626845644|\n",
            "+-----+------------------+\n",
            "\n"
          ],
          "name": "stdout"
        }
      ]
    }
  ]
}
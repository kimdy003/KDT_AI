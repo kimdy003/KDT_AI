{
  "nbformat": 4,
  "nbformat_minor": 0,
  "metadata": {
    "colab": {
      "name": "PySpark_타이베이시_주택가격_예측.ipynb",
      "provenance": [],
      "collapsed_sections": []
    },
    "kernelspec": {
      "name": "python3",
      "display_name": "Python 3"
    },
    "accelerator": "GPU"
  },
  "cells": [
    {
      "cell_type": "markdown",
      "metadata": {
        "id": "xAqhTDfuWrcM"
      },
      "source": [
        "PySpark을 로컬머신에 설치하고 노트북을 사용하기 보다는 머신러닝 관련 다양한 라이브러리가 이미 설치되었고 좋은 하드웨어를 제공해주는 Google Colab을 통해 실습을 진행한다."
      ]
    },
    {
      "cell_type": "markdown",
      "metadata": {
        "id": "XIA23YgbXKJd"
      },
      "source": [
        "이를 위해 pyspark과 Py4J 패키지를 설치한다. Py4J 패키지는 파이썬 프로그램이 자바가상머신상의 오브젝트들을 접근할 수 있게 해준다. Local Standalone Spark을 사용한다."
      ]
    },
    {
      "cell_type": "code",
      "metadata": {
        "id": "NbT0rpGfVdiq",
        "colab": {
          "base_uri": "https://localhost:8080/"
        },
        "outputId": "ca98ad21-d062-4513-fcbf-0d3d60ec910a"
      },
      "source": [
        "!pip install pyspark==3.0.1 py4j==0.10.9 "
      ],
      "execution_count": 2,
      "outputs": [
        {
          "output_type": "stream",
          "text": [
            "Collecting pyspark==3.0.1\n",
            "  Downloading pyspark-3.0.1.tar.gz (204.2 MB)\n",
            "\u001b[K     |████████████████████████████████| 204.2 MB 36 kB/s \n",
            "\u001b[?25hCollecting py4j==0.10.9\n",
            "  Downloading py4j-0.10.9-py2.py3-none-any.whl (198 kB)\n",
            "\u001b[K     |████████████████████████████████| 198 kB 21.3 MB/s \n",
            "\u001b[?25hBuilding wheels for collected packages: pyspark\n",
            "  Building wheel for pyspark (setup.py) ... \u001b[?25l\u001b[?25hdone\n",
            "  Created wheel for pyspark: filename=pyspark-3.0.1-py2.py3-none-any.whl size=204612242 sha256=7a44327eae83e062601bcefc8f285df812b3830928da700ba684adcbb1e5ff1c\n",
            "  Stored in directory: /root/.cache/pip/wheels/5e/34/fa/b37b5cef503fc5148b478b2495043ba61b079120b7ff379f9b\n",
            "Successfully built pyspark\n",
            "Installing collected packages: py4j, pyspark\n",
            "Successfully installed py4j-0.10.9 pyspark-3.0.1\n"
          ],
          "name": "stdout"
        }
      ]
    },
    {
      "cell_type": "code",
      "metadata": {
        "id": "3vm6tgcPXdnR"
      },
      "source": [
        "from pyspark.sql import SparkSession\n",
        "\n",
        "spark = SparkSession \\\n",
        "    .builder \\\n",
        "    .appName(\"Taipei Housing Price Prediction\") \\\n",
        "    .getOrCreate()"
      ],
      "execution_count": 3,
      "outputs": []
    },
    {
      "cell_type": "markdown",
      "metadata": {
        "id": "pyl0gES0KhkF"
      },
      "source": [
        "# 타이베이 주택 가격 예측 모델 만들기\n",
        "\n",
        "\n"
      ]
    },
    {
      "cell_type": "markdown",
      "metadata": {
        "id": "BSkgIWglmw3-"
      },
      "source": [
        "데이터셋 설명\n",
        "\n",
        "이번 문제는 대만 타이베이 시의 신단 지역에서 수집된 주택 거래 관련 정보를 바탕으로 주택 가격(정확히는 주택의 평당 가격)을 예측하는 Regression 모델을 만들어보는 것이다. 총 6개의 피쳐와 주택의 평당 가격에 해당하는 레이블 정보가 훈련 데이터로 제공된다. 레이블의 경우에는 주택의 최종 가격이 아니라 평당 가격이란 점을 다시 한번 강조한다.\n",
        "\n",
        "각 컬럼에 대한 설명은 아래와 같으며 모든 필드는 X4를 제외하고는 실수 타입이다.\n",
        "\n",
        "* X1: 주택 거래 날짜를 실수로 제공한다. 소수점 부분은 달을 나타낸다. 예를 들어 2013.250이라면 2013년 3월임을 나타낸다 (0.250 = 3/12)\n",
        "* X2: 주택 나이 (년수)\n",
        "* X3: 가장 가까운 지하철역까지의 거리 (미터)\n",
        "* X4: 주택 근방 걸어갈 수 있는 거리내 편의점 수\n",
        "* X5: 주택 위치의 위도 (latitude)\n",
        "* X6: 주택 위치의 경도 (longitude)\n",
        "* Y: 주택 평당 가격\n",
        "\n"
      ]
    },
    {
      "cell_type": "code",
      "metadata": {
        "id": "LSs_1PYaYWxI",
        "colab": {
          "base_uri": "https://localhost:8080/",
          "height": 219
        },
        "outputId": "de348f29-051e-4e01-8b44-850469cd0b29"
      },
      "source": [
        "spark"
      ],
      "execution_count": 4,
      "outputs": [
        {
          "output_type": "execute_result",
          "data": {
            "text/html": [
              "\n",
              "            <div>\n",
              "                <p><b>SparkSession - in-memory</b></p>\n",
              "                \n",
              "        <div>\n",
              "            <p><b>SparkContext</b></p>\n",
              "\n",
              "            <p><a href=\"http://883ab9ae5984:4040\">Spark UI</a></p>\n",
              "\n",
              "            <dl>\n",
              "              <dt>Version</dt>\n",
              "                <dd><code>v3.0.1</code></dd>\n",
              "              <dt>Master</dt>\n",
              "                <dd><code>local[*]</code></dd>\n",
              "              <dt>AppName</dt>\n",
              "                <dd><code>Taipei Housing Price Prediction</code></dd>\n",
              "            </dl>\n",
              "        </div>\n",
              "        \n",
              "            </div>\n",
              "        "
            ],
            "text/plain": [
              "<pyspark.sql.session.SparkSession at 0x7fbae9b80350>"
            ]
          },
          "metadata": {
            "tags": []
          },
          "execution_count": 4
        }
      ]
    },
    {
      "cell_type": "code",
      "metadata": {
        "id": "vE8iL4vy6705",
        "colab": {
          "base_uri": "https://localhost:8080/"
        },
        "outputId": "714a77e8-ca85-4d47-9467-d166aee0d303"
      },
      "source": [
        "!wget https://grepp-reco-test.s3.ap-northeast-2.amazonaws.com/Taipei_sindan_housing.csv"
      ],
      "execution_count": 5,
      "outputs": [
        {
          "output_type": "stream",
          "text": [
            "--2021-07-25 12:52:28--  https://grepp-reco-test.s3.ap-northeast-2.amazonaws.com/Taipei_sindan_housing.csv\n",
            "Resolving grepp-reco-test.s3.ap-northeast-2.amazonaws.com (grepp-reco-test.s3.ap-northeast-2.amazonaws.com)... 52.219.148.19\n",
            "Connecting to grepp-reco-test.s3.ap-northeast-2.amazonaws.com (grepp-reco-test.s3.ap-northeast-2.amazonaws.com)|52.219.148.19|:443... connected.\n",
            "HTTP request sent, awaiting response... 200 OK\n",
            "Length: 20014 (20K) [text/csv]\n",
            "Saving to: ‘Taipei_sindan_housing.csv’\n",
            "\n",
            "Taipei_sindan_housi 100%[===================>]  19.54K  --.-KB/s    in 0.1s    \n",
            "\n",
            "2021-07-25 12:52:29 (143 KB/s) - ‘Taipei_sindan_housing.csv’ saved [20014/20014]\n",
            "\n"
          ],
          "name": "stdout"
        }
      ]
    },
    {
      "cell_type": "code",
      "metadata": {
        "id": "GfSzc03fOC6e",
        "colab": {
          "base_uri": "https://localhost:8080/"
        },
        "outputId": "2268af2a-276d-499c-86ae-223162c81efb"
      },
      "source": [
        "!ls -tl"
      ],
      "execution_count": 6,
      "outputs": [
        {
          "output_type": "stream",
          "text": [
            "total 24\n",
            "-rw-r--r-- 1 root root 20014 Jul 17 17:35 Taipei_sindan_housing.csv\n",
            "drwxr-xr-x 1 root root  4096 Jul 16 13:20 sample_data\n"
          ],
          "name": "stdout"
        }
      ]
    },
    {
      "cell_type": "code",
      "metadata": {
        "id": "-mH3roiKIOix"
      },
      "source": [
        "data = spark.read.csv('./Taipei_sindan_housing.csv', header=True, inferSchema=True)"
      ],
      "execution_count": 7,
      "outputs": []
    },
    {
      "cell_type": "code",
      "metadata": {
        "id": "SCty0kw6ITVi",
        "colab": {
          "base_uri": "https://localhost:8080/"
        },
        "outputId": "e46fb74b-ef40-42d8-b0ca-1ecab89eed05"
      },
      "source": [
        "data.printSchema()"
      ],
      "execution_count": 8,
      "outputs": [
        {
          "output_type": "stream",
          "text": [
            "root\n",
            " |-- X1: double (nullable = true)\n",
            " |-- X2: double (nullable = true)\n",
            " |-- X3: double (nullable = true)\n",
            " |-- X4: integer (nullable = true)\n",
            " |-- X5: double (nullable = true)\n",
            " |-- X6: double (nullable = true)\n",
            " |-- Y: double (nullable = true)\n",
            "\n"
          ],
          "name": "stdout"
        }
      ]
    },
    {
      "cell_type": "code",
      "metadata": {
        "id": "nrlYYyVfIV1e",
        "colab": {
          "base_uri": "https://localhost:8080/"
        },
        "outputId": "db636758-b098-4387-8aea-c72adf47c222"
      },
      "source": [
        "data.show()"
      ],
      "execution_count": 9,
      "outputs": [
        {
          "output_type": "stream",
          "text": [
            "+--------+----+--------+---+--------+---------+----+\n",
            "|      X1|  X2|      X3| X4|      X5|       X6|   Y|\n",
            "+--------+----+--------+---+--------+---------+----+\n",
            "|2012.917|32.0|84.87882| 10|24.98298|121.54024|37.9|\n",
            "|2012.917|19.5|306.5947|  9|24.98034|121.53951|42.2|\n",
            "|2013.583|13.3|561.9845|  5|24.98746|121.54391|47.3|\n",
            "|  2013.5|13.3|561.9845|  5|24.98746|121.54391|54.8|\n",
            "|2012.833| 5.0|390.5684|  5|24.97937|121.54245|43.1|\n",
            "|2012.667| 7.1| 2175.03|  3|24.96305|121.51254|32.1|\n",
            "|2012.667|34.5|623.4731|  7|24.97933|121.53642|40.3|\n",
            "|2013.417|20.3|287.6025|  6|24.98042|121.54228|46.7|\n",
            "|  2013.5|31.7|5512.038|  1|24.95095|121.48458|18.8|\n",
            "|2013.417|17.9| 1783.18|  3|24.96731|121.51486|22.1|\n",
            "|2013.083|34.8|405.2134|  1|24.97349|121.53372|41.4|\n",
            "|2013.333| 6.3|90.45606|  9|24.97433| 121.5431|58.1|\n",
            "|2012.917|13.0|492.2313|  5|24.96515|121.53737|39.3|\n",
            "|2012.667|20.4|2469.645|  4|24.96108|121.51046|23.8|\n",
            "|  2013.5|13.2|1164.838|  4|24.99156|121.53406|34.3|\n",
            "|2013.583|35.7|579.2083|  2| 24.9824|121.54619|50.5|\n",
            "| 2013.25| 0.0|292.9978|  6|24.97744|121.54458|70.1|\n",
            "| 2012.75|17.7|350.8515|  1|24.97544|121.53119|37.4|\n",
            "|2013.417|16.9|368.1363|  8| 24.9675|121.54451|42.3|\n",
            "|2012.667| 1.5|23.38284|  7|24.96772|121.54102|47.7|\n",
            "+--------+----+--------+---+--------+---------+----+\n",
            "only showing top 20 rows\n",
            "\n"
          ],
          "name": "stdout"
        }
      ]
    },
    {
      "cell_type": "code",
      "metadata": {
        "colab": {
          "base_uri": "https://localhost:8080/"
        },
        "id": "ZhTQ-oypuLrl",
        "outputId": "bf84dd20-515b-4ba6-b096-e39e81540acb"
      },
      "source": [
        "data.describe()"
      ],
      "execution_count": 11,
      "outputs": [
        {
          "output_type": "execute_result",
          "data": {
            "text/plain": [
              "DataFrame[summary: string, X1: string, X2: string, X3: string, X4: string, X5: string, X6: string, Y: string]"
            ]
          },
          "metadata": {
            "tags": []
          },
          "execution_count": 11
        }
      ]
    },
    {
      "cell_type": "code",
      "metadata": {
        "colab": {
          "base_uri": "https://localhost:8080/"
        },
        "id": "PH7bNLvPuoYY",
        "outputId": "7a199355-2da2-4e00-81d0-88edfef099e8"
      },
      "source": [
        "data.select(['*']).describe().show()"
      ],
      "execution_count": 12,
      "outputs": [
        {
          "output_type": "stream",
          "text": [
            "+-------+------------------+------------------+------------------+------------------+--------------------+--------------------+------------------+\n",
            "|summary|                X1|                X2|                X3|                X4|                  X5|                  X6|                 Y|\n",
            "+-------+------------------+------------------+------------------+------------------+--------------------+--------------------+------------------+\n",
            "|  count|               414|               414|               414|               414|                 414|                 414|               414|\n",
            "|   mean|2013.1489710144933| 17.71256038647343|1083.8856889130436| 4.094202898550725|  24.969030072463745|  121.53336108695667| 37.98019323671498|\n",
            "| stddev|0.2819672402629999|11.392484533242524| 1262.109595407851|2.9455618056636177|0.012410196590450208|0.015347183004592374|13.606487697735316|\n",
            "|    min|          2012.667|               0.0|          23.38284|                 0|            24.93207|           121.47353|               7.6|\n",
            "|    max|          2013.583|              43.8|          6488.021|                10|            25.01459|           121.56627|             117.5|\n",
            "+-------+------------------+------------------+------------------+------------------+--------------------+--------------------+------------------+\n",
            "\n"
          ],
          "name": "stdout"
        }
      ]
    },
    {
      "cell_type": "markdown",
      "metadata": {
        "id": "3HHLOtiivPxJ"
      },
      "source": [
        "# 피쳐 벡터 만들기\n",
        "* vectorAssembler() 함수 사용"
      ]
    },
    {
      "cell_type": "code",
      "metadata": {
        "id": "V17QG9YtvgrX"
      },
      "source": [
        "from pyspark.ml.feature import VectorAssembler\n",
        "\n",
        "feature_columns = data.columns[:-1]\n",
        "assembler = VectorAssembler(inputCols=feature_columns, outputCol='features')\n",
        "\n",
        "data_2 = assembler.transform(data)"
      ],
      "execution_count": 14,
      "outputs": []
    },
    {
      "cell_type": "code",
      "metadata": {
        "colab": {
          "base_uri": "https://localhost:8080/"
        },
        "id": "j92tt4jNv3dG",
        "outputId": "983b0423-8258-4357-cbe9-58af141ac5c1"
      },
      "source": [
        "data_2.show()"
      ],
      "execution_count": 15,
      "outputs": [
        {
          "output_type": "stream",
          "text": [
            "+--------+----+--------+---+--------+---------+----+--------------------+\n",
            "|      X1|  X2|      X3| X4|      X5|       X6|   Y|            features|\n",
            "+--------+----+--------+---+--------+---------+----+--------------------+\n",
            "|2012.917|32.0|84.87882| 10|24.98298|121.54024|37.9|[2012.917,32.0,84...|\n",
            "|2012.917|19.5|306.5947|  9|24.98034|121.53951|42.2|[2012.917,19.5,30...|\n",
            "|2013.583|13.3|561.9845|  5|24.98746|121.54391|47.3|[2013.583,13.3,56...|\n",
            "|  2013.5|13.3|561.9845|  5|24.98746|121.54391|54.8|[2013.5,13.3,561....|\n",
            "|2012.833| 5.0|390.5684|  5|24.97937|121.54245|43.1|[2012.833,5.0,390...|\n",
            "|2012.667| 7.1| 2175.03|  3|24.96305|121.51254|32.1|[2012.667,7.1,217...|\n",
            "|2012.667|34.5|623.4731|  7|24.97933|121.53642|40.3|[2012.667,34.5,62...|\n",
            "|2013.417|20.3|287.6025|  6|24.98042|121.54228|46.7|[2013.417,20.3,28...|\n",
            "|  2013.5|31.7|5512.038|  1|24.95095|121.48458|18.8|[2013.5,31.7,5512...|\n",
            "|2013.417|17.9| 1783.18|  3|24.96731|121.51486|22.1|[2013.417,17.9,17...|\n",
            "|2013.083|34.8|405.2134|  1|24.97349|121.53372|41.4|[2013.083,34.8,40...|\n",
            "|2013.333| 6.3|90.45606|  9|24.97433| 121.5431|58.1|[2013.333,6.3,90....|\n",
            "|2012.917|13.0|492.2313|  5|24.96515|121.53737|39.3|[2012.917,13.0,49...|\n",
            "|2012.667|20.4|2469.645|  4|24.96108|121.51046|23.8|[2012.667,20.4,24...|\n",
            "|  2013.5|13.2|1164.838|  4|24.99156|121.53406|34.3|[2013.5,13.2,1164...|\n",
            "|2013.583|35.7|579.2083|  2| 24.9824|121.54619|50.5|[2013.583,35.7,57...|\n",
            "| 2013.25| 0.0|292.9978|  6|24.97744|121.54458|70.1|[2013.25,0.0,292....|\n",
            "| 2012.75|17.7|350.8515|  1|24.97544|121.53119|37.4|[2012.75,17.7,350...|\n",
            "|2013.417|16.9|368.1363|  8| 24.9675|121.54451|42.3|[2013.417,16.9,36...|\n",
            "|2012.667| 1.5|23.38284|  7|24.96772|121.54102|47.7|[2012.667,1.5,23....|\n",
            "+--------+----+--------+---+--------+---------+----+--------------------+\n",
            "only showing top 20 rows\n",
            "\n"
          ],
          "name": "stdout"
        }
      ]
    },
    {
      "cell_type": "markdown",
      "metadata": {
        "id": "dRbV4RuBwFho"
      },
      "source": [
        "# train, test split & Create Linear Regression model"
      ]
    },
    {
      "cell_type": "code",
      "metadata": {
        "id": "Z_BiibWTwU81"
      },
      "source": [
        "train, test = data_2.randomSplit([0.7, 0.3])"
      ],
      "execution_count": 16,
      "outputs": []
    },
    {
      "cell_type": "code",
      "metadata": {
        "id": "IKHMCEdUwZ5n"
      },
      "source": [
        "from pyspark.ml.regression import LinearRegression\n",
        "\n",
        "algo = LinearRegression(featuresCol='features', labelCol='Y')\n",
        "model = algo.fit(train)"
      ],
      "execution_count": 19,
      "outputs": []
    },
    {
      "cell_type": "markdown",
      "metadata": {
        "id": "XF_wFmlMwrKx"
      },
      "source": [
        "# 모델 성능 측정"
      ]
    },
    {
      "cell_type": "code",
      "metadata": {
        "colab": {
          "base_uri": "https://localhost:8080/"
        },
        "id": "oSnlcYtxw8x1",
        "outputId": "4df918b7-65ac-4440-98a2-258ce3ea97d3"
      },
      "source": [
        "evaluation_summary = model.evaluate(test)\n",
        "evaluation_summary.rootMeanSquaredError"
      ],
      "execution_count": 27,
      "outputs": [
        {
          "output_type": "execute_result",
          "data": {
            "text/plain": [
              "10.58443349072609"
            ]
          },
          "metadata": {
            "tags": []
          },
          "execution_count": 27
        }
      ]
    },
    {
      "cell_type": "markdown",
      "metadata": {
        "id": "4p3X23pgxIZh"
      },
      "source": [
        "# Decision tree"
      ]
    },
    {
      "cell_type": "code",
      "metadata": {
        "id": "o6D4kneGxTN_"
      },
      "source": [
        "from pyspark.ml.regression import DecisionTreeRegressor\n",
        "\n",
        "Decision_algo = DecisionTreeRegressor(featuresCol='features', labelCol='Y')\n",
        "Decision_model = Decision_algo.fit(train)"
      ],
      "execution_count": 25,
      "outputs": []
    },
    {
      "cell_type": "code",
      "metadata": {
        "colab": {
          "base_uri": "https://localhost:8080/"
        },
        "id": "2bUvzGRQxzl7",
        "outputId": "a29c99b1-2fb2-428b-a157-60eab81b5623"
      },
      "source": [
        "from pyspark.ml.evaluation import RegressionEvaluator\n",
        "\n",
        "Decision_predictions = Decision_model.transform(test)\n",
        "\n",
        "# Select (prediction, true label) and compute test error\n",
        "evaluator = RegressionEvaluator(\n",
        "    labelCol=\"Y\", predictionCol=\"prediction\", metricName=\"rmse\")\n",
        "rmse = evaluator.evaluate(Decision_predictions)\n",
        "rmse"
      ],
      "execution_count": 30,
      "outputs": [
        {
          "output_type": "execute_result",
          "data": {
            "text/plain": [
              "9.969210168037218"
            ]
          },
          "metadata": {
            "tags": []
          },
          "execution_count": 30
        }
      ]
    },
    {
      "cell_type": "markdown",
      "metadata": {
        "id": "2_yBqXc7ylIM"
      },
      "source": [
        "# Random forest"
      ]
    },
    {
      "cell_type": "code",
      "metadata": {
        "id": "7hiQ2N2ozey-"
      },
      "source": [
        "from pyspark.ml.regression import RandomForestRegressor\n",
        "\n",
        "RandomForest_algo = RandomForestRegressor(featuresCol='features', labelCol='Y')\n",
        "RandomForest_model = RandomForest_algo.fit(train)"
      ],
      "execution_count": 31,
      "outputs": []
    },
    {
      "cell_type": "code",
      "metadata": {
        "colab": {
          "base_uri": "https://localhost:8080/"
        },
        "id": "ARkBsofYzdTp",
        "outputId": "9350945b-9923-4b13-aa5a-534a9ed98695"
      },
      "source": [
        "from pyspark.ml.evaluation import RegressionEvaluator\n",
        "\n",
        "RandomForest_predictions = RandomForest_model.transform(test)\n",
        "\n",
        "# Select (prediction, true label) and compute test error\n",
        "evaluator = RegressionEvaluator(\n",
        "    labelCol=\"Y\", predictionCol=\"prediction\", metricName=\"rmse\")\n",
        "rmse = evaluator.evaluate(RandomForest_predictions)\n",
        "rmse"
      ],
      "execution_count": 32,
      "outputs": [
        {
          "output_type": "execute_result",
          "data": {
            "text/plain": [
              "9.031868598579637"
            ]
          },
          "metadata": {
            "tags": []
          },
          "execution_count": 32
        }
      ]
    },
    {
      "cell_type": "markdown",
      "metadata": {
        "id": "uXq6dP8NzweW"
      },
      "source": [
        "# Gradient-boosted tree"
      ]
    },
    {
      "cell_type": "code",
      "metadata": {
        "id": "Ry7fqpUEzx45"
      },
      "source": [
        "from pyspark.ml.regression import GBTRegressor\n",
        "\n",
        "GBT_algo = GBTRegressor(featuresCol='features', labelCol='Y')\n",
        "GBT_model = GBT_algo.fit(train)"
      ],
      "execution_count": 36,
      "outputs": []
    },
    {
      "cell_type": "code",
      "metadata": {
        "colab": {
          "base_uri": "https://localhost:8080/"
        },
        "id": "tQXWH284zzAC",
        "outputId": "cd993e7e-3f91-4beb-eefd-2b00c07152fd"
      },
      "source": [
        "from pyspark.ml.evaluation import RegressionEvaluator\n",
        "\n",
        "GBT_predictions = GBT_model.transform(test)\n",
        "\n",
        "# Select (prediction, true label) and compute test error\n",
        "evaluator = RegressionEvaluator(\n",
        "    labelCol=\"Y\", predictionCol=\"prediction\", metricName=\"rmse\")\n",
        "rmse = evaluator.evaluate(GBT_predictions)\n",
        "rmse"
      ],
      "execution_count": 37,
      "outputs": [
        {
          "output_type": "execute_result",
          "data": {
            "text/plain": [
              "10.126859635587856"
            ]
          },
          "metadata": {
            "tags": []
          },
          "execution_count": 37
        }
      ]
    },
    {
      "cell_type": "code",
      "metadata": {
        "id": "1XmRNX7l0at9"
      },
      "source": [
        ""
      ],
      "execution_count": null,
      "outputs": []
    }
  ]
}
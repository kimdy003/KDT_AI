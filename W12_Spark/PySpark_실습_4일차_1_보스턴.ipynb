{
  "nbformat": 4,
  "nbformat_minor": 0,
  "metadata": {
    "colab": {
      "name": "9주차_PySpark_기본_4일차_1.ipynb",
      "provenance": []
    },
    "kernelspec": {
      "name": "python3",
      "display_name": "Python 3"
    }
  },
  "cells": [
    {
      "cell_type": "markdown",
      "metadata": {
        "id": "view-in-github"
      },
      "source": [
        "<a href=\"https://colab.research.google.com/github/learn-programmers/programmers_kdt_II/blob/main/9%EC%A3%BC%EC%B0%A8_PySpark_%EA%B8%B0%EB%B3%B8_4%EC%9D%BC%EC%B0%A8_1.ipynb\" target=\"_parent\"><img src=\"https://colab.research.google.com/assets/colab-badge.svg\" alt=\"Open In Colab\"/></a>"
      ]
    },
    {
      "cell_type": "markdown",
      "metadata": {
        "id": "xAqhTDfuWrcM"
      },
      "source": [
        "PySpark을 로컬머신에 설치하고 노트북을 사용하기 보다는 머신러닝 관련 다양한 라이브러리가 이미 설치되었고 좋은 하드웨어를 제공해주는 Google Colab을 통해 실습을 진행한다."
      ]
    },
    {
      "cell_type": "markdown",
      "metadata": {
        "id": "XIA23YgbXKJd"
      },
      "source": [
        "이를 위해 pyspark과 Py4J 패키지를 설치한다. Py4J 패키지는 파이썬 프로그램이 자바가상머신상의 오브젝트들을 접근할 수 있게 해준다. Local Standalone Spark을 사용한다."
      ]
    },
    {
      "cell_type": "code",
      "metadata": {
        "colab": {
          "base_uri": "https://localhost:8080/"
        },
        "id": "NbT0rpGfVdiq",
        "outputId": "2f67007f-effb-44c0-9374-f04036d6c298"
      },
      "source": [
        "!pip install pyspark==3.0.1 py4j==0.10.9 "
      ],
      "execution_count": 1,
      "outputs": [
        {
          "output_type": "stream",
          "text": [
            "Collecting pyspark==3.0.1\n",
            "  Downloading pyspark-3.0.1.tar.gz (204.2 MB)\n",
            "\u001b[K     |████████████████████████████████| 204.2 MB 14 kB/s \n",
            "\u001b[?25hCollecting py4j==0.10.9\n",
            "  Downloading py4j-0.10.9-py2.py3-none-any.whl (198 kB)\n",
            "\u001b[K     |████████████████████████████████| 198 kB 20.3 MB/s \n",
            "\u001b[?25hBuilding wheels for collected packages: pyspark\n",
            "  Building wheel for pyspark (setup.py) ... \u001b[?25l\u001b[?25hdone\n",
            "  Created wheel for pyspark: filename=pyspark-3.0.1-py2.py3-none-any.whl size=204612242 sha256=a0411f00adcd1c990b34f12e7451d721ebe3dd1021564b0fdf44e80b5a4983c2\n",
            "  Stored in directory: /root/.cache/pip/wheels/5e/34/fa/b37b5cef503fc5148b478b2495043ba61b079120b7ff379f9b\n",
            "Successfully built pyspark\n",
            "Installing collected packages: py4j, pyspark\n",
            "Successfully installed py4j-0.10.9 pyspark-3.0.1\n"
          ],
          "name": "stdout"
        }
      ]
    },
    {
      "cell_type": "code",
      "metadata": {
        "id": "3vm6tgcPXdnR"
      },
      "source": [
        "from pyspark.sql import SparkSession\n",
        "\n",
        "spark = SparkSession \\\n",
        "    .builder \\\n",
        "    .appName(\"Boston Housing Linear Regression example\") \\\n",
        "    .getOrCreate()"
      ],
      "execution_count": 2,
      "outputs": []
    },
    {
      "cell_type": "markdown",
      "metadata": {
        "id": "pyl0gES0KhkF"
      },
      "source": [
        "# 보스턴 주택 가격 예측 모델 만들기\n",
        "\n",
        "\n"
      ]
    },
    {
      "cell_type": "code",
      "metadata": {
        "colab": {
          "base_uri": "https://localhost:8080/",
          "height": 217
        },
        "id": "LSs_1PYaYWxI",
        "outputId": "9c743a53-5695-4afa-f521-c44e98ff0a0c"
      },
      "source": [
        "spark"
      ],
      "execution_count": 4,
      "outputs": [
        {
          "output_type": "execute_result",
          "data": {
            "text/html": [
              "\n",
              "            <div>\n",
              "                <p><b>SparkSession - in-memory</b></p>\n",
              "                \n",
              "        <div>\n",
              "            <p><b>SparkContext</b></p>\n",
              "\n",
              "            <p><a href=\"http://87cf1ff78c46:4040\">Spark UI</a></p>\n",
              "\n",
              "            <dl>\n",
              "              <dt>Version</dt>\n",
              "                <dd><code>v3.0.1</code></dd>\n",
              "              <dt>Master</dt>\n",
              "                <dd><code>local[*]</code></dd>\n",
              "              <dt>AppName</dt>\n",
              "                <dd><code>Boston Housing Linear Regression example</code></dd>\n",
              "            </dl>\n",
              "        </div>\n",
              "        \n",
              "            </div>\n",
              "        "
            ],
            "text/plain": [
              "<pyspark.sql.session.SparkSession at 0x7f66c0110050>"
            ]
          },
          "metadata": {
            "tags": []
          },
          "execution_count": 4
        }
      ]
    },
    {
      "cell_type": "code",
      "metadata": {
        "id": "vE8iL4vy6705",
        "colab": {
          "base_uri": "https://localhost:8080/"
        },
        "outputId": "f3aa3e03-f452-4ade-b052-1fe9f89ce77c"
      },
      "source": [
        "!wget https://s3-geospatial.s3-us-west-2.amazonaws.com/boston_housing.csv"
      ],
      "execution_count": 5,
      "outputs": [
        {
          "output_type": "stream",
          "text": [
            "--2021-07-23 17:18:42--  https://s3-geospatial.s3-us-west-2.amazonaws.com/boston_housing.csv\n",
            "Resolving s3-geospatial.s3-us-west-2.amazonaws.com (s3-geospatial.s3-us-west-2.amazonaws.com)... 52.218.232.225\n",
            "Connecting to s3-geospatial.s3-us-west-2.amazonaws.com (s3-geospatial.s3-us-west-2.amazonaws.com)|52.218.232.225|:443... connected.\n",
            "HTTP request sent, awaiting response... 200 OK\n",
            "Length: 36240 (35K) [text/csv]\n",
            "Saving to: ‘boston_housing.csv’\n",
            "\n",
            "boston_housing.csv  100%[===================>]  35.39K  --.-KB/s    in 0.08s   \n",
            "\n",
            "2021-07-23 17:18:43 (433 KB/s) - ‘boston_housing.csv’ saved [36240/36240]\n",
            "\n"
          ],
          "name": "stdout"
        }
      ]
    },
    {
      "cell_type": "code",
      "metadata": {
        "colab": {
          "base_uri": "https://localhost:8080/"
        },
        "id": "GfSzc03fOC6e",
        "outputId": "a6acd924-eefb-473a-ccad-47c6def497ce"
      },
      "source": [
        "!ls -tl"
      ],
      "execution_count": 6,
      "outputs": [
        {
          "output_type": "stream",
          "text": [
            "total 40\n",
            "drwxr-xr-x 1 root root  4096 Jul 16 13:20 sample_data\n",
            "-rw-r--r-- 1 root root 36240 Jan 31 01:46 boston_housing.csv\n"
          ],
          "name": "stdout"
        }
      ]
    },
    {
      "cell_type": "code",
      "metadata": {
        "id": "-mH3roiKIOix"
      },
      "source": [
        "data = spark.read.csv('./boston_housing.csv', header=True, inferSchema=True)"
      ],
      "execution_count": 7,
      "outputs": []
    },
    {
      "cell_type": "code",
      "metadata": {
        "colab": {
          "base_uri": "https://localhost:8080/"
        },
        "id": "SCty0kw6ITVi",
        "outputId": "a4469dd9-4a46-4add-8528-fa305f2283fc"
      },
      "source": [
        "data.printSchema()"
      ],
      "execution_count": 8,
      "outputs": [
        {
          "output_type": "stream",
          "text": [
            "root\n",
            " |-- crim: double (nullable = true)\n",
            " |-- zn: double (nullable = true)\n",
            " |-- indus: double (nullable = true)\n",
            " |-- chas: integer (nullable = true)\n",
            " |-- nox: double (nullable = true)\n",
            " |-- rm: double (nullable = true)\n",
            " |-- age: double (nullable = true)\n",
            " |-- dis: double (nullable = true)\n",
            " |-- rad: integer (nullable = true)\n",
            " |-- tax: integer (nullable = true)\n",
            " |-- ptratio: double (nullable = true)\n",
            " |-- b: double (nullable = true)\n",
            " |-- lstat: double (nullable = true)\n",
            " |-- medv: double (nullable = true)\n",
            "\n"
          ],
          "name": "stdout"
        }
      ]
    },
    {
      "cell_type": "code",
      "metadata": {
        "colab": {
          "base_uri": "https://localhost:8080/"
        },
        "id": "nrlYYyVfIV1e",
        "outputId": "6bbae3c4-30b4-4bbb-bd55-fa405fdd7524"
      },
      "source": [
        "data.show()"
      ],
      "execution_count": 9,
      "outputs": [
        {
          "output_type": "stream",
          "text": [
            "+-------+----+-----+----+-----+-----+-----+------+---+---+-------+------+-----+----+\n",
            "|   crim|  zn|indus|chas|  nox|   rm|  age|   dis|rad|tax|ptratio|     b|lstat|medv|\n",
            "+-------+----+-----+----+-----+-----+-----+------+---+---+-------+------+-----+----+\n",
            "|0.00632|18.0| 2.31|   0|0.538|6.575| 65.2|  4.09|  1|296|   15.3| 396.9| 4.98|24.0|\n",
            "|0.02731| 0.0| 7.07|   0|0.469|6.421| 78.9|4.9671|  2|242|   17.8| 396.9| 9.14|21.6|\n",
            "|0.02729| 0.0| 7.07|   0|0.469|7.185| 61.1|4.9671|  2|242|   17.8|392.83| 4.03|34.7|\n",
            "|0.03237| 0.0| 2.18|   0|0.458|6.998| 45.8|6.0622|  3|222|   18.7|394.63| 2.94|33.4|\n",
            "|0.06905| 0.0| 2.18|   0|0.458|7.147| 54.2|6.0622|  3|222|   18.7| 396.9| 5.33|36.2|\n",
            "|0.02985| 0.0| 2.18|   0|0.458| 6.43| 58.7|6.0622|  3|222|   18.7|394.12| 5.21|28.7|\n",
            "|0.08829|12.5| 7.87|   0|0.524|6.012| 66.6|5.5605|  5|311|   15.2| 395.6|12.43|22.9|\n",
            "|0.14455|12.5| 7.87|   0|0.524|6.172| 96.1|5.9505|  5|311|   15.2| 396.9|19.15|27.1|\n",
            "|0.21124|12.5| 7.87|   0|0.524|5.631|100.0|6.0821|  5|311|   15.2|386.63|29.93|16.5|\n",
            "|0.17004|12.5| 7.87|   0|0.524|6.004| 85.9|6.5921|  5|311|   15.2|386.71| 17.1|18.9|\n",
            "|0.22489|12.5| 7.87|   0|0.524|6.377| 94.3|6.3467|  5|311|   15.2|392.52|20.45|15.0|\n",
            "|0.11747|12.5| 7.87|   0|0.524|6.009| 82.9|6.2267|  5|311|   15.2| 396.9|13.27|18.9|\n",
            "|0.09378|12.5| 7.87|   0|0.524|5.889| 39.0|5.4509|  5|311|   15.2| 390.5|15.71|21.7|\n",
            "|0.62976| 0.0| 8.14|   0|0.538|5.949| 61.8|4.7075|  4|307|   21.0| 396.9| 8.26|20.4|\n",
            "|0.63796| 0.0| 8.14|   0|0.538|6.096| 84.5|4.4619|  4|307|   21.0|380.02|10.26|18.2|\n",
            "|0.62739| 0.0| 8.14|   0|0.538|5.834| 56.5|4.4986|  4|307|   21.0|395.62| 8.47|19.9|\n",
            "|1.05393| 0.0| 8.14|   0|0.538|5.935| 29.3|4.4986|  4|307|   21.0|386.85| 6.58|23.1|\n",
            "| 0.7842| 0.0| 8.14|   0|0.538| 5.99| 81.7|4.2579|  4|307|   21.0|386.75|14.67|17.5|\n",
            "|0.80271| 0.0| 8.14|   0|0.538|5.456| 36.6|3.7965|  4|307|   21.0|288.99|11.69|20.2|\n",
            "| 0.7258| 0.0| 8.14|   0|0.538|5.727| 69.5|3.7965|  4|307|   21.0|390.95|11.28|18.2|\n",
            "+-------+----+-----+----+-----+-----+-----+------+---+---+-------+------+-----+----+\n",
            "only showing top 20 rows\n",
            "\n"
          ],
          "name": "stdout"
        }
      ]
    },
    {
      "cell_type": "markdown",
      "metadata": {
        "id": "cGMk-ULmLcVM"
      },
      "source": [
        "## 피쳐 벡터를 만들기\n",
        "\n",
        "* vectorAssembler() 함수 사용으로 사용할 column들을 모아 vector로 만들어 새로운 column으로 추가한다"
      ]
    },
    {
      "cell_type": "code",
      "metadata": {
        "id": "vBYWOVQYIXEt"
      },
      "source": [
        "from pyspark.ml.feature import VectorAssembler\n",
        "\n",
        "feature_columns = data.columns[:-1]\n",
        "assembler = VectorAssembler(inputCols=feature_columns, outputCol=\"features\")"
      ],
      "execution_count": 18,
      "outputs": []
    },
    {
      "cell_type": "code",
      "metadata": {
        "colab": {
          "base_uri": "https://localhost:8080/"
        },
        "id": "SAkNEWkhO9Vk",
        "outputId": "40e83892-1da3-465f-ee89-bb1ed94d54d6"
      },
      "source": [
        "feature_columns"
      ],
      "execution_count": 19,
      "outputs": [
        {
          "output_type": "execute_result",
          "data": {
            "text/plain": [
              "['crim',\n",
              " 'zn',\n",
              " 'indus',\n",
              " 'chas',\n",
              " 'nox',\n",
              " 'rm',\n",
              " 'age',\n",
              " 'dis',\n",
              " 'rad',\n",
              " 'tax',\n",
              " 'ptratio',\n",
              " 'b',\n",
              " 'lstat']"
            ]
          },
          "metadata": {
            "tags": []
          },
          "execution_count": 19
        }
      ]
    },
    {
      "cell_type": "code",
      "metadata": {
        "id": "8J0_WrOYIqA0"
      },
      "source": [
        "# 하나의 데이터 프레임을 입력 받아서 새로운 column을 새로 추가\n",
        "# features이라는 column이 새로 생성되고, 위의 column들이 vector로 묶인다.\n",
        "\n",
        "data_2 = assembler.transform(data)"
      ],
      "execution_count": 20,
      "outputs": []
    },
    {
      "cell_type": "code",
      "metadata": {
        "colab": {
          "base_uri": "https://localhost:8080/"
        },
        "id": "e0WZHfxmIuxr",
        "outputId": "73879826-ed96-416d-c367-02b1e1337b2b"
      },
      "source": [
        "data_2.show()"
      ],
      "execution_count": 21,
      "outputs": [
        {
          "output_type": "stream",
          "text": [
            "+-------+----+-----+----+-----+-----+-----+------+---+---+-------+------+-----+----+--------------------+\n",
            "|   crim|  zn|indus|chas|  nox|   rm|  age|   dis|rad|tax|ptratio|     b|lstat|medv|            features|\n",
            "+-------+----+-----+----+-----+-----+-----+------+---+---+-------+------+-----+----+--------------------+\n",
            "|0.00632|18.0| 2.31|   0|0.538|6.575| 65.2|  4.09|  1|296|   15.3| 396.9| 4.98|24.0|[0.00632,18.0,2.3...|\n",
            "|0.02731| 0.0| 7.07|   0|0.469|6.421| 78.9|4.9671|  2|242|   17.8| 396.9| 9.14|21.6|[0.02731,0.0,7.07...|\n",
            "|0.02729| 0.0| 7.07|   0|0.469|7.185| 61.1|4.9671|  2|242|   17.8|392.83| 4.03|34.7|[0.02729,0.0,7.07...|\n",
            "|0.03237| 0.0| 2.18|   0|0.458|6.998| 45.8|6.0622|  3|222|   18.7|394.63| 2.94|33.4|[0.03237,0.0,2.18...|\n",
            "|0.06905| 0.0| 2.18|   0|0.458|7.147| 54.2|6.0622|  3|222|   18.7| 396.9| 5.33|36.2|[0.06905,0.0,2.18...|\n",
            "|0.02985| 0.0| 2.18|   0|0.458| 6.43| 58.7|6.0622|  3|222|   18.7|394.12| 5.21|28.7|[0.02985,0.0,2.18...|\n",
            "|0.08829|12.5| 7.87|   0|0.524|6.012| 66.6|5.5605|  5|311|   15.2| 395.6|12.43|22.9|[0.08829,12.5,7.8...|\n",
            "|0.14455|12.5| 7.87|   0|0.524|6.172| 96.1|5.9505|  5|311|   15.2| 396.9|19.15|27.1|[0.14455,12.5,7.8...|\n",
            "|0.21124|12.5| 7.87|   0|0.524|5.631|100.0|6.0821|  5|311|   15.2|386.63|29.93|16.5|[0.21124,12.5,7.8...|\n",
            "|0.17004|12.5| 7.87|   0|0.524|6.004| 85.9|6.5921|  5|311|   15.2|386.71| 17.1|18.9|[0.17004,12.5,7.8...|\n",
            "|0.22489|12.5| 7.87|   0|0.524|6.377| 94.3|6.3467|  5|311|   15.2|392.52|20.45|15.0|[0.22489,12.5,7.8...|\n",
            "|0.11747|12.5| 7.87|   0|0.524|6.009| 82.9|6.2267|  5|311|   15.2| 396.9|13.27|18.9|[0.11747,12.5,7.8...|\n",
            "|0.09378|12.5| 7.87|   0|0.524|5.889| 39.0|5.4509|  5|311|   15.2| 390.5|15.71|21.7|[0.09378,12.5,7.8...|\n",
            "|0.62976| 0.0| 8.14|   0|0.538|5.949| 61.8|4.7075|  4|307|   21.0| 396.9| 8.26|20.4|[0.62976,0.0,8.14...|\n",
            "|0.63796| 0.0| 8.14|   0|0.538|6.096| 84.5|4.4619|  4|307|   21.0|380.02|10.26|18.2|[0.63796,0.0,8.14...|\n",
            "|0.62739| 0.0| 8.14|   0|0.538|5.834| 56.5|4.4986|  4|307|   21.0|395.62| 8.47|19.9|[0.62739,0.0,8.14...|\n",
            "|1.05393| 0.0| 8.14|   0|0.538|5.935| 29.3|4.4986|  4|307|   21.0|386.85| 6.58|23.1|[1.05393,0.0,8.14...|\n",
            "| 0.7842| 0.0| 8.14|   0|0.538| 5.99| 81.7|4.2579|  4|307|   21.0|386.75|14.67|17.5|[0.7842,0.0,8.14,...|\n",
            "|0.80271| 0.0| 8.14|   0|0.538|5.456| 36.6|3.7965|  4|307|   21.0|288.99|11.69|20.2|[0.80271,0.0,8.14...|\n",
            "| 0.7258| 0.0| 8.14|   0|0.538|5.727| 69.5|3.7965|  4|307|   21.0|390.95|11.28|18.2|[0.7258,0.0,8.14,...|\n",
            "+-------+----+-----+----+-----+-----+-----+------+---+---+-------+------+-----+----+--------------------+\n",
            "only showing top 20 rows\n",
            "\n"
          ],
          "name": "stdout"
        }
      ]
    },
    {
      "cell_type": "markdown",
      "metadata": {
        "id": "6kK7gG2JLjy_"
      },
      "source": [
        "## 훈련용과 테스트용 데이터를 나누고 Linear Regression 모델을 하나 만든다"
      ]
    },
    {
      "cell_type": "code",
      "metadata": {
        "id": "OEmZtDfzIyvc"
      },
      "source": [
        "train, test = data_2.randomSplit([0.7, 0.3])"
      ],
      "execution_count": 22,
      "outputs": []
    },
    {
      "cell_type": "code",
      "metadata": {
        "id": "y1cKT-0-I2rt"
      },
      "source": [
        "from pyspark.ml.regression import LinearRegression\n",
        "\n",
        "# featuresCol : 우리가 만든 vector인 features를 넣어주고,\n",
        "# label로는 medv로 넣어준다.\n",
        "algo = LinearRegression(featuresCol=\"features\", labelCol=\"medv\")\n",
        "model = algo.fit(train)"
      ],
      "execution_count": 24,
      "outputs": []
    },
    {
      "cell_type": "markdown",
      "metadata": {
        "id": "ELSupsQVLFK-"
      },
      "source": [
        "## 모델 성능 측정"
      ]
    },
    {
      "cell_type": "code",
      "metadata": {
        "id": "LDzlKgOTJkTJ"
      },
      "source": [
        "evaluation_summary = model.evaluate(test)"
      ],
      "execution_count": 25,
      "outputs": []
    },
    {
      "cell_type": "code",
      "metadata": {
        "colab": {
          "base_uri": "https://localhost:8080/"
        },
        "id": "02BIJYu4JnNJ",
        "outputId": "15c3704a-b52f-4769-cffa-ccc2e604415b"
      },
      "source": [
        "evaluation_summary"
      ],
      "execution_count": 26,
      "outputs": [
        {
          "output_type": "execute_result",
          "data": {
            "text/plain": [
              "<pyspark.ml.regression.LinearRegressionSummary at 0x7f66b71cacd0>"
            ]
          },
          "metadata": {
            "tags": []
          },
          "execution_count": 26
        }
      ]
    },
    {
      "cell_type": "code",
      "metadata": {
        "colab": {
          "base_uri": "https://localhost:8080/"
        },
        "id": "GDSM4ZAeJrFa",
        "outputId": "fe1b2de7-07ff-454a-cc1d-6e270d28b2eb"
      },
      "source": [
        "# |예측값 - 정답값| mean 값\n",
        "evaluation_summary.meanAbsoluteError"
      ],
      "execution_count": 27,
      "outputs": [
        {
          "output_type": "execute_result",
          "data": {
            "text/plain": [
              "3.398306162158317"
            ]
          },
          "metadata": {
            "tags": []
          },
          "execution_count": 27
        }
      ]
    },
    {
      "cell_type": "code",
      "metadata": {
        "colab": {
          "base_uri": "https://localhost:8080/"
        },
        "id": "idZshiJqJuOl",
        "outputId": "a8c37e58-64e5-401c-9eb4-88cc84f6915a"
      },
      "source": [
        "# (예측값 - 정답값)^2 의 root값\n",
        "evaluation_summary.rootMeanSquaredError"
      ],
      "execution_count": 28,
      "outputs": [
        {
          "output_type": "execute_result",
          "data": {
            "text/plain": [
              "4.834487913860579"
            ]
          },
          "metadata": {
            "tags": []
          },
          "execution_count": 28
        }
      ]
    },
    {
      "cell_type": "code",
      "metadata": {
        "colab": {
          "base_uri": "https://localhost:8080/"
        },
        "id": "3VnnpJqYJx0d",
        "outputId": "91e3deb2-a6fc-4dd3-bca4-69e9c965597f"
      },
      "source": [
        "evaluation_summary.r2"
      ],
      "execution_count": 29,
      "outputs": [
        {
          "output_type": "execute_result",
          "data": {
            "text/plain": [
              "0.7010827008656533"
            ]
          },
          "metadata": {
            "tags": []
          },
          "execution_count": 29
        }
      ]
    },
    {
      "cell_type": "markdown",
      "metadata": {
        "id": "k1V_bYQmLKy2"
      },
      "source": [
        "## 모델 예측값 살펴보기 "
      ]
    },
    {
      "cell_type": "code",
      "metadata": {
        "id": "1pegKAalJz4n"
      },
      "source": [
        "# test는 dataframe\n",
        "predictions = model.transform(test)"
      ],
      "execution_count": 31,
      "outputs": []
    },
    {
      "cell_type": "code",
      "metadata": {
        "colab": {
          "base_uri": "https://localhost:8080/"
        },
        "id": "8kpfjtXJRVus",
        "outputId": "3c382895-bd21-4673-fa4d-2216df2feb6e"
      },
      "source": [
        "predictions.show()"
      ],
      "execution_count": 32,
      "outputs": [
        {
          "output_type": "stream",
          "text": [
            "+-------+-----+-----+----+------+-----+----+------+---+---+-------+------+-----+----+--------------------+------------------+\n",
            "|   crim|   zn|indus|chas|   nox|   rm| age|   dis|rad|tax|ptratio|     b|lstat|medv|            features|        prediction|\n",
            "+-------+-----+-----+----+------+-----+----+------+---+---+-------+------+-----+----+--------------------+------------------+\n",
            "|0.00632| 18.0| 2.31|   0| 0.538|6.575|65.2|  4.09|  1|296|   15.3| 396.9| 4.98|24.0|[0.00632,18.0,2.3...|30.485036014448493|\n",
            "|0.00906| 90.0| 2.97|   0|   0.4|7.088|20.8|7.3073|  1|285|   15.3|394.72| 7.85|32.2|[0.00906,90.0,2.9...|32.773223919441584|\n",
            "|0.01096| 55.0| 2.25|   0| 0.389|6.453|31.9|7.3073|  1|300|   15.3|394.72| 8.23|22.0|[0.01096,55.0,2.2...|27.823572981691644|\n",
            "| 0.0136| 75.0|  4.0|   0|  0.41|5.888|47.6|7.3197|  3|469|   21.1| 396.9| 14.8|18.9|[0.0136,75.0,4.0,...|16.750147153466607|\n",
            "|0.01432|100.0| 1.32|   0| 0.411|6.816|40.5|8.3248|  5|256|   15.1| 392.9| 3.95|31.6|[0.01432,100.0,1....|  34.4659018152639|\n",
            "|0.01501| 90.0| 1.21|   1| 0.401|7.923|24.8| 5.885|  1|198|   13.6|395.52| 3.16|50.0|[0.01501,90.0,1.2...| 45.21386519093097|\n",
            "|0.01965| 80.0| 1.76|   0| 0.385| 6.23|31.5|9.0892|  1|241|   18.2| 341.6|12.93|20.1|[0.01965,80.0,1.7...|  21.2722162206215|\n",
            "|0.02729|  0.0| 7.07|   0| 0.469|7.185|61.1|4.9671|  2|242|   17.8|392.83| 4.03|34.7|[0.02729,0.0,7.07...|30.663524072234072|\n",
            "|0.02763| 75.0| 2.95|   0| 0.428|6.595|21.8|5.4011|  3|252|   18.3|395.63| 4.32|30.8|[0.02763,75.0,2.9...|32.816728032282576|\n",
            "|0.03049| 55.0| 3.78|   0| 0.484|6.874|28.1|6.4654|  5|370|   17.6|387.97| 4.61|31.2|[0.03049,55.0,3.7...|29.598215617926986|\n",
            "|0.03359| 75.0| 2.95|   0| 0.428|7.024|15.8|5.4011|  3|252|   18.3|395.62| 1.98|34.9|[0.03359,75.0,2.9...|35.727681829617254|\n",
            "|0.03445| 82.5| 2.03|   0| 0.415|6.162|38.4|  6.27|  2|348|   14.7|393.77| 7.43|24.1|[0.03445,82.5,2.0...| 30.29628086979049|\n",
            "|0.03466| 35.0| 6.06|   0|0.4379|6.031|23.3|6.6407|  1|304|   16.9|362.25| 7.83|19.4|[0.03466,35.0,6.0...| 23.71371754206683|\n",
            "|0.03502| 80.0| 4.95|   0| 0.411|6.861|27.9|5.1167|  4|245|   19.2| 396.9| 3.33|28.5|[0.03502,80.0,4.9...|35.011074333843716|\n",
            "|0.03551| 25.0| 4.86|   0| 0.426|6.167|46.7|5.4007|  4|281|   19.0|390.64| 7.51|22.9|[0.03551,25.0,4.8...|25.519279886469903|\n",
            "|0.03578| 20.0| 3.33|   0|0.4429| 7.82|64.5|4.6947|  5|216|   14.9|387.31| 3.76|45.4|[0.03578,20.0,3.3...| 38.90379601277686|\n",
            "|0.03584| 80.0| 3.37|   0| 0.398| 6.29|17.8|6.6115|  4|337|   16.1| 396.9| 4.67|23.5|[0.03584,80.0,3.3...|31.400345598872995|\n",
            "|0.03615| 80.0| 4.95|   0| 0.411| 6.63|23.4|5.1167|  4|245|   19.2| 396.9|  4.7|27.9|[0.03615,80.0,4.9...| 33.37738132463664|\n",
            "|0.03659| 25.0| 4.86|   0| 0.426|6.302|32.2|5.4007|  4|281|   19.0| 396.9| 6.72|24.8|[0.03659,25.0,4.8...|26.511874206625166|\n",
            "|0.03738|  0.0| 5.19|   0| 0.515| 6.31|38.5|6.4584|  5|224|   20.2| 389.4| 6.75|20.7|[0.03738,0.0,5.19...|21.967214424955458|\n",
            "+-------+-----+-----+----+------+-----+----+------+---+---+-------+------+-----+----+--------------------+------------------+\n",
            "only showing top 20 rows\n",
            "\n"
          ],
          "name": "stdout"
        }
      ]
    },
    {
      "cell_type": "code",
      "metadata": {
        "colab": {
          "base_uri": "https://localhost:8080/"
        },
        "id": "uxpTKuQyJ8mH",
        "outputId": "39c4b539-5498-4c40-e7c2-319207267631"
      },
      "source": [
        "predictions.select(predictions.columns[13::2]).show()"
      ],
      "execution_count": 34,
      "outputs": [
        {
          "output_type": "stream",
          "text": [
            "+----+------------------+\n",
            "|medv|        prediction|\n",
            "+----+------------------+\n",
            "|24.0|30.485036014448493|\n",
            "|32.2|32.773223919441584|\n",
            "|22.0|27.823572981691644|\n",
            "|18.9|16.750147153466607|\n",
            "|31.6|  34.4659018152639|\n",
            "|50.0| 45.21386519093097|\n",
            "|20.1|  21.2722162206215|\n",
            "|34.7|30.663524072234072|\n",
            "|30.8|32.816728032282576|\n",
            "|31.2|29.598215617926986|\n",
            "|34.9|35.727681829617254|\n",
            "|24.1| 30.29628086979049|\n",
            "|19.4| 23.71371754206683|\n",
            "|28.5|35.011074333843716|\n",
            "|22.9|25.519279886469903|\n",
            "|45.4| 38.90379601277686|\n",
            "|23.5|31.400345598872995|\n",
            "|27.9| 33.37738132463664|\n",
            "|24.8|26.511874206625166|\n",
            "|20.7|21.967214424955458|\n",
            "+----+------------------+\n",
            "only showing top 20 rows\n",
            "\n"
          ],
          "name": "stdout"
        }
      ]
    },
    {
      "cell_type": "code",
      "metadata": {
        "id": "hiuqE26pKBYV"
      },
      "source": [
        "model.save(\"boston_housing_model\")"
      ],
      "execution_count": 35,
      "outputs": []
    },
    {
      "cell_type": "code",
      "metadata": {
        "colab": {
          "base_uri": "https://localhost:8080/"
        },
        "id": "-3LEk6_uSCxc",
        "outputId": "b2010611-f4ae-4af7-dc57-803dc3cf611a"
      },
      "source": [
        "!ls boston_housing_model"
      ],
      "execution_count": 36,
      "outputs": [
        {
          "output_type": "stream",
          "text": [
            "data  metadata\n"
          ],
          "name": "stdout"
        }
      ]
    },
    {
      "cell_type": "code",
      "metadata": {
        "id": "xvfSY3ATX9sl",
        "colab": {
          "base_uri": "https://localhost:8080/"
        },
        "outputId": "9935e2b7-9350-4011-e365-4df7418f6175"
      },
      "source": [
        "!ls -tl boston_housing_model"
      ],
      "execution_count": 37,
      "outputs": [
        {
          "output_type": "stream",
          "text": [
            "total 8\n",
            "drwxr-xr-x 2 root root 4096 Jul 23 17:32 data\n",
            "drwxr-xr-x 2 root root 4096 Jul 23 17:32 metadata\n"
          ],
          "name": "stdout"
        }
      ]
    },
    {
      "cell_type": "code",
      "metadata": {
        "id": "NgwgLq6xgLwi"
      },
      "source": [
        "from google.colab import drive\n",
        "drive.mount('/content/gdrive')"
      ],
      "execution_count": null,
      "outputs": []
    },
    {
      "cell_type": "code",
      "metadata": {
        "id": "PFEMhdWbgVnk"
      },
      "source": [
        "model_save_name = \"boston_housing_model\"\n",
        "path = F\"/content/gdrive/My Drive/boston_housing_model2\" \n",
        "model.save(path)"
      ],
      "execution_count": null,
      "outputs": []
    },
    {
      "cell_type": "code",
      "metadata": {
        "id": "GnIczTktX_mC"
      },
      "source": [
        "from pyspark.ml.regression import LinearRegressionModel\n",
        "\n",
        "loaded_model = LinearRegressionModel.load(path)  # \"boston_housing_model\")"
      ],
      "execution_count": null,
      "outputs": []
    },
    {
      "cell_type": "code",
      "metadata": {
        "id": "rUPqrP4Beb7P"
      },
      "source": [
        "predictions2 = loaded_model.transform(test)"
      ],
      "execution_count": null,
      "outputs": []
    },
    {
      "cell_type": "code",
      "metadata": {
        "colab": {
          "base_uri": "https://localhost:8080/"
        },
        "id": "cXUj8afbfDLz",
        "outputId": "3b5f81bf-2664-4edd-d414-51c2848b35ba"
      },
      "source": [
        "predictions2.select(predictions.columns[13:]).show()"
      ],
      "execution_count": null,
      "outputs": [
        {
          "output_type": "stream",
          "text": [
            "+----+--------------------+------------------+\n",
            "|medv|            features|        prediction|\n",
            "+----+--------------------+------------------+\n",
            "|22.0|[0.01096,55.0,2.2...|26.571482297719307|\n",
            "|32.7|[0.01301,35.0,1.5...|30.167506151964368|\n",
            "|35.4|[0.01311,90.0,1.2...|30.335900587302184|\n",
            "|18.9|[0.0136,75.0,4.0,...|15.228505739892949|\n",
            "|50.0|[0.01501,90.0,1.2...| 44.80928824019599|\n",
            "|30.1|[0.01709,90.0,2.0...|25.264400971073016|\n",
            "|50.0|[0.02009,95.0,2.6...| 41.68916053418553|\n",
            "|42.3|[0.02177,82.5,2.0...|36.146191514394395|\n",
            "|16.5|[0.02498,0.0,1.89...|22.746885437097184|\n",
            "|23.9|[0.02543,55.0,3.7...|27.769299940712642|\n",
            "|30.8|[0.02763,75.0,2.9...| 30.72520875882616|\n",
            "|25.0|[0.02875,28.0,15....|28.649351219272933|\n",
            "|18.5|[0.03041,0.0,5.19...|19.578146685590635|\n",
            "|34.9|[0.0315,95.0,1.47...|29.605091447377312|\n",
            "|33.4|[0.03237,0.0,2.18...|28.946444601423302|\n",
            "|19.5|[0.03427,0.0,5.19...| 20.31754513618022|\n",
            "|19.4|[0.03466,35.0,6.0...|22.979032509331866|\n",
            "|45.4|[0.03578,20.0,3.3...| 38.10797692996398|\n",
            "|20.7|[0.03738,0.0,5.19...| 21.98230064873198|\n",
            "|20.6|[0.04294,28.0,15....| 26.75212862015282|\n",
            "+----+--------------------+------------------+\n",
            "only showing top 20 rows\n",
            "\n"
          ],
          "name": "stdout"
        }
      ]
    },
    {
      "cell_type": "code",
      "metadata": {
        "id": "DAyn3LSafJuv"
      },
      "source": [
        ""
      ],
      "execution_count": null,
      "outputs": []
    }
  ]
}
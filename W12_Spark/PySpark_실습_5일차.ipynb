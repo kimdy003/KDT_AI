{
  "nbformat": 4,
  "nbformat_minor": 0,
  "metadata": {
    "colab": {
      "name": "9주차_PySpark_기본_5일차_1.ipynb",
      "provenance": [],
      "collapsed_sections": [
        "teK9rhGml7gE",
        "cGMk-ULmLcVM",
        "AVYzljmlcLZe",
        "6kK7gG2JLjy_",
        "ELSupsQVLFK-"
      ]
    },
    "kernelspec": {
      "name": "python3",
      "display_name": "Python 3"
    },
    "accelerator": "GPU"
  },
  "cells": [
    {
      "cell_type": "markdown",
      "metadata": {
        "id": "view-in-github"
      },
      "source": [
        "<a href=\"https://colab.research.google.com/github/learn-programmers/programmers_kdt_II/blob/main/9%EC%A3%BC%EC%B0%A8_PySpark_%EA%B8%B0%EB%B3%B8_5%EC%9D%BC%EC%B0%A8_1.ipynb\" target=\"_parent\"><img src=\"https://colab.research.google.com/assets/colab-badge.svg\" alt=\"Open In Colab\"/></a>"
      ]
    },
    {
      "cell_type": "markdown",
      "metadata": {
        "id": "Widvu3D6a9gj"
      },
      "source": [
        "# 타이타닉 승객 생존 예측 분류기 개발 방향\n",
        "* 이번에는 ML Pipeline을 사용하여 모델을 빌딩\n",
        "* 다양한 Transformer 사용\n",
        "    * Imputer, StringIndexer, VectroeAssembler\n",
        "    * MinMaxScaler를 적용하여 피쳐 값을 0과 1 사이로 스케일\n",
        "* GBTClassifier와 LogisticRegression을 머신러닝 알고리즘으로 사용\n",
        "    * Gradient Boosted Tree Classifier\n",
        "        * 의사결정 트리(Decision Tree)의 머신러닝 알고리즘\n",
        "        * Regression과 Classification 모두에 사용가능\n",
        "* CrossValidation을 사용하여 모델 파라미터 선택\n",
        "    * BinaryClassificationEvaluator를 Evaluator로 사용\n",
        "    * ParamGridBuilder를 사용하여 ParamGrid를 생성\n",
        "    * 뒤에 설명할 ML Pipeline을 인자로 지정\n",
        "        * ML Pipeline를 만들 때 머신러닝 알고리즘을 마지막에 지정해야 함"
      ]
    },
    {
      "cell_type": "markdown",
      "metadata": {
        "id": "xAqhTDfuWrcM"
      },
      "source": [
        "PySpark을 로컬머신에 설치하고 노트북을 사용하기 보다는 머신러닝 관련 다양한 라이브러리가 이미 설치되었고 좋은 하드웨어를 제공해주는 Google Colab을 통해 실습을 진행한다."
      ]
    },
    {
      "cell_type": "markdown",
      "metadata": {
        "id": "XIA23YgbXKJd"
      },
      "source": [
        "이를 위해 pyspark과 Py4J 패키지를 설치한다. Py4J 패키지는 파이썬 프로그램이 자바가상머신상의 오브젝트들을 접근할 수 있게 해준다. Local Standalone Spark을 사용한다."
      ]
    },
    {
      "cell_type": "code",
      "metadata": {
        "colab": {
          "base_uri": "https://localhost:8080/"
        },
        "id": "NbT0rpGfVdiq",
        "outputId": "ac8f0686-c70e-4b94-a207-b1245f375a09"
      },
      "source": [
        "!pip install pyspark==3.0.1 py4j==0.10.9"
      ],
      "execution_count": 26,
      "outputs": [
        {
          "output_type": "stream",
          "text": [
            "Requirement already satisfied: pyspark==3.0.1 in /usr/local/lib/python3.7/dist-packages (3.0.1)\n",
            "Requirement already satisfied: py4j==0.10.9 in /usr/local/lib/python3.7/dist-packages (0.10.9)\n"
          ],
          "name": "stdout"
        }
      ]
    },
    {
      "cell_type": "code",
      "metadata": {
        "id": "3vm6tgcPXdnR"
      },
      "source": [
        "from pyspark.sql import SparkSession\n",
        "\n",
        "spark = SparkSession \\\n",
        "    .builder \\\n",
        "    .appName(\"Titanic Classification via ML Pipeline and Model Selection\") \\\n",
        "    .getOrCreate()"
      ],
      "execution_count": 27,
      "outputs": []
    },
    {
      "cell_type": "markdown",
      "metadata": {
        "id": "pyl0gES0KhkF"
      },
      "source": [
        "# 타이타닉 생존 예측 모델 만들기\n",
        "\n",
        "\n"
      ]
    },
    {
      "cell_type": "code",
      "metadata": {
        "colab": {
          "base_uri": "https://localhost:8080/",
          "height": 219
        },
        "id": "LSs_1PYaYWxI",
        "outputId": "026b74f5-b78b-4692-9fed-4f56c796848f"
      },
      "source": [
        "spark"
      ],
      "execution_count": 28,
      "outputs": [
        {
          "output_type": "execute_result",
          "data": {
            "text/html": [
              "\n",
              "            <div>\n",
              "                <p><b>SparkSession - in-memory</b></p>\n",
              "                \n",
              "        <div>\n",
              "            <p><b>SparkContext</b></p>\n",
              "\n",
              "            <p><a href=\"http://9490c994bc78:4040\">Spark UI</a></p>\n",
              "\n",
              "            <dl>\n",
              "              <dt>Version</dt>\n",
              "                <dd><code>v3.0.1</code></dd>\n",
              "              <dt>Master</dt>\n",
              "                <dd><code>local[*]</code></dd>\n",
              "              <dt>AppName</dt>\n",
              "                <dd><code>Titanic Classification via ML Pipeline and Model Selection</code></dd>\n",
              "            </dl>\n",
              "        </div>\n",
              "        \n",
              "            </div>\n",
              "        "
            ],
            "text/plain": [
              "<pyspark.sql.session.SparkSession at 0x7f1345b3b710>"
            ]
          },
          "metadata": {
            "tags": []
          },
          "execution_count": 28
        }
      ]
    },
    {
      "cell_type": "code",
      "metadata": {
        "id": "vE8iL4vy6705",
        "colab": {
          "base_uri": "https://localhost:8080/"
        },
        "outputId": "992dc18c-2c15-455c-859f-c783540f7eb2"
      },
      "source": [
        "!wget https://s3-geospatial.s3-us-west-2.amazonaws.com/titanic.csv"
      ],
      "execution_count": 29,
      "outputs": [
        {
          "output_type": "stream",
          "text": [
            "--2021-07-28 18:40:35--  https://s3-geospatial.s3-us-west-2.amazonaws.com/titanic.csv\n",
            "Resolving s3-geospatial.s3-us-west-2.amazonaws.com (s3-geospatial.s3-us-west-2.amazonaws.com)... 52.218.136.161\n",
            "Connecting to s3-geospatial.s3-us-west-2.amazonaws.com (s3-geospatial.s3-us-west-2.amazonaws.com)|52.218.136.161|:443... connected.\n",
            "HTTP request sent, awaiting response... 200 OK\n",
            "Length: 61197 (60K) [text/csv]\n",
            "Saving to: ‘titanic.csv.1’\n",
            "\n",
            "\rtitanic.csv.1         0%[                    ]       0  --.-KB/s               \rtitanic.csv.1       100%[===================>]  59.76K  --.-KB/s    in 0.02s   \n",
            "\n",
            "2021-07-28 18:40:35 (2.41 MB/s) - ‘titanic.csv.1’ saved [61197/61197]\n",
            "\n"
          ],
          "name": "stdout"
        }
      ]
    },
    {
      "cell_type": "code",
      "metadata": {
        "colab": {
          "base_uri": "https://localhost:8080/"
        },
        "id": "o8gErwpeCsp3",
        "outputId": "1cb6d663-3266-48f5-9ad7-4cae30492701"
      },
      "source": [
        "!ls -tl"
      ],
      "execution_count": 30,
      "outputs": [
        {
          "output_type": "stream",
          "text": [
            "total 124\n",
            "drwxr-xr-x 1 root root  4096 Jul 16 13:20 sample_data\n",
            "-rw-r--r-- 1 root root 61197 Jan 31 03:56 titanic.csv\n",
            "-rw-r--r-- 1 root root 61197 Jan 31 03:56 titanic.csv.1\n"
          ],
          "name": "stdout"
        }
      ]
    },
    {
      "cell_type": "code",
      "metadata": {
        "id": "-mH3roiKIOix"
      },
      "source": [
        "data = spark.read.csv('./titanic.csv', header=True, inferSchema=True)"
      ],
      "execution_count": 31,
      "outputs": []
    },
    {
      "cell_type": "code",
      "metadata": {
        "colab": {
          "base_uri": "https://localhost:8080/"
        },
        "id": "SCty0kw6ITVi",
        "outputId": "373e9896-c276-461d-9ab6-fb39f1fb86e1"
      },
      "source": [
        "data.printSchema()"
      ],
      "execution_count": 32,
      "outputs": [
        {
          "output_type": "stream",
          "text": [
            "root\n",
            " |-- PassengerId: integer (nullable = true)\n",
            " |-- Survived: integer (nullable = true)\n",
            " |-- Pclass: integer (nullable = true)\n",
            " |-- Name: string (nullable = true)\n",
            " |-- Gender: string (nullable = true)\n",
            " |-- Age: double (nullable = true)\n",
            " |-- SibSp: integer (nullable = true)\n",
            " |-- Parch: integer (nullable = true)\n",
            " |-- Ticket: string (nullable = true)\n",
            " |-- Fare: double (nullable = true)\n",
            " |-- Cabin: string (nullable = true)\n",
            " |-- Embarked: string (nullable = true)\n",
            "\n"
          ],
          "name": "stdout"
        }
      ]
    },
    {
      "cell_type": "code",
      "metadata": {
        "colab": {
          "base_uri": "https://localhost:8080/"
        },
        "id": "nrlYYyVfIV1e",
        "outputId": "a1611adb-6930-47f0-af5f-6fd616206f0d"
      },
      "source": [
        "data.show()"
      ],
      "execution_count": 33,
      "outputs": [
        {
          "output_type": "stream",
          "text": [
            "+-----------+--------+------+--------------------+------+----+-----+-----+----------------+-------+-----+--------+\n",
            "|PassengerId|Survived|Pclass|                Name|Gender| Age|SibSp|Parch|          Ticket|   Fare|Cabin|Embarked|\n",
            "+-----------+--------+------+--------------------+------+----+-----+-----+----------------+-------+-----+--------+\n",
            "|          1|       0|     3|Braund, Mr. Owen ...|  male|22.0|    1|    0|       A/5 21171|   7.25| null|       S|\n",
            "|          2|       1|     1|Cumings, Mrs. Joh...|female|38.0|    1|    0|        PC 17599|71.2833|  C85|       C|\n",
            "|          3|       1|     3|Heikkinen, Miss. ...|female|26.0|    0|    0|STON/O2. 3101282|  7.925| null|       S|\n",
            "|          4|       1|     1|Futrelle, Mrs. Ja...|female|35.0|    1|    0|          113803|   53.1| C123|       S|\n",
            "|          5|       0|     3|Allen, Mr. Willia...|  male|35.0|    0|    0|          373450|   8.05| null|       S|\n",
            "|          6|       0|     3|    Moran, Mr. James|  male|null|    0|    0|          330877| 8.4583| null|       Q|\n",
            "|          7|       0|     1|McCarthy, Mr. Tim...|  male|54.0|    0|    0|           17463|51.8625|  E46|       S|\n",
            "|          8|       0|     3|Palsson, Master. ...|  male| 2.0|    3|    1|          349909| 21.075| null|       S|\n",
            "|          9|       1|     3|Johnson, Mrs. Osc...|female|27.0|    0|    2|          347742|11.1333| null|       S|\n",
            "|         10|       1|     2|Nasser, Mrs. Nich...|female|14.0|    1|    0|          237736|30.0708| null|       C|\n",
            "|         11|       1|     3|Sandstrom, Miss. ...|female| 4.0|    1|    1|         PP 9549|   16.7|   G6|       S|\n",
            "|         12|       1|     1|Bonnell, Miss. El...|female|58.0|    0|    0|          113783|  26.55| C103|       S|\n",
            "|         13|       0|     3|Saundercock, Mr. ...|  male|20.0|    0|    0|       A/5. 2151|   8.05| null|       S|\n",
            "|         14|       0|     3|Andersson, Mr. An...|  male|39.0|    1|    5|          347082| 31.275| null|       S|\n",
            "|         15|       0|     3|Vestrom, Miss. Hu...|female|14.0|    0|    0|          350406| 7.8542| null|       S|\n",
            "|         16|       1|     2|Hewlett, Mrs. (Ma...|female|55.0|    0|    0|          248706|   16.0| null|       S|\n",
            "|         17|       0|     3|Rice, Master. Eugene|  male| 2.0|    4|    1|          382652| 29.125| null|       Q|\n",
            "|         18|       1|     2|Williams, Mr. Cha...|  male|null|    0|    0|          244373|   13.0| null|       S|\n",
            "|         19|       0|     3|Vander Planke, Mr...|female|31.0|    1|    0|          345763|   18.0| null|       S|\n",
            "|         20|       1|     3|Masselmani, Mrs. ...|female|null|    0|    0|            2649|  7.225| null|       C|\n",
            "+-----------+--------+------+--------------------+------+----+-----+-----+----------------+-------+-----+--------+\n",
            "only showing top 20 rows\n",
            "\n"
          ],
          "name": "stdout"
        }
      ]
    },
    {
      "cell_type": "code",
      "metadata": {
        "colab": {
          "base_uri": "https://localhost:8080/"
        },
        "id": "rW75AqANmRZN",
        "outputId": "77180e4b-16f8-4ee7-ac95-208058732b79"
      },
      "source": [
        "data.select(['*']).describe().show()"
      ],
      "execution_count": 34,
      "outputs": [
        {
          "output_type": "stream",
          "text": [
            "+-------+-----------------+-------------------+------------------+--------------------+------+------------------+------------------+-------------------+------------------+-----------------+-----+--------+\n",
            "|summary|      PassengerId|           Survived|            Pclass|                Name|Gender|               Age|             SibSp|              Parch|            Ticket|             Fare|Cabin|Embarked|\n",
            "+-------+-----------------+-------------------+------------------+--------------------+------+------------------+------------------+-------------------+------------------+-----------------+-----+--------+\n",
            "|  count|              891|                891|               891|                 891|   891|               714|               891|                891|               891|              891|  204|     889|\n",
            "|   mean|            446.0| 0.3838383838383838| 2.308641975308642|                null|  null| 29.69911764705882|0.5230078563411896|0.38159371492704824|260318.54916792738| 32.2042079685746| null|    null|\n",
            "| stddev|257.3538420152301|0.48659245426485753|0.8360712409770491|                null|  null|14.526497332334035|1.1027434322934315| 0.8060572211299488|471609.26868834975|49.69342859718089| null|    null|\n",
            "|    min|                1|                  0|                 1|\"Andersson, Mr. A...|female|              0.42|                 0|                  0|            110152|              0.0|  A10|       C|\n",
            "|    max|              891|                  1|                 3|van Melkebeke, Mr...|  male|              80.0|                 8|                  6|         WE/P 5735|         512.3292|    T|       S|\n",
            "+-------+-----------------+-------------------+------------------+--------------------+------+------------------+------------------+-------------------+------------------+-----------------+-----+--------+\n",
            "\n"
          ],
          "name": "stdout"
        }
      ]
    },
    {
      "cell_type": "markdown",
      "metadata": {
        "id": "teK9rhGml7gE"
      },
      "source": [
        "## **데이터 클린업**: \n",
        "\n",
        "*   PassengerID, Name, Ticket, Embarked는 사용하지 않을 예정 (아무 의미가 없음).\n",
        "*   Cabin도 비어있는 값이 너무 많아서 사용하지 않을 예정\n",
        "*   Age는 중요한 정보인데 비어있는 레코드들이 많아서 디폴트값을 채워줄 예정\n",
        "*   모든 필드를 MinMaxScaler로 스케일\n",
        "*   Gender의 경우 카테고리 정보이기에 숫자로 인코딩 필요\n",
        "\n"
      ]
    },
    {
      "cell_type": "code",
      "metadata": {
        "id": "FeP0qwDyl-tp"
      },
      "source": [
        "final_data = data.select(['Survived', 'Pclass', 'Gender', 'Age', 'SibSp', 'Parch', 'Fare'])"
      ],
      "execution_count": 35,
      "outputs": []
    },
    {
      "cell_type": "code",
      "metadata": {
        "colab": {
          "base_uri": "https://localhost:8080/"
        },
        "id": "fyuHao_xVki4",
        "outputId": "4dd5c555-23f0-48bd-835b-0828ac46fb9a"
      },
      "source": [
        "final_data.show()"
      ],
      "execution_count": 36,
      "outputs": [
        {
          "output_type": "stream",
          "text": [
            "+--------+------+------+----+-----+-----+-------+\n",
            "|Survived|Pclass|Gender| Age|SibSp|Parch|   Fare|\n",
            "+--------+------+------+----+-----+-----+-------+\n",
            "|       0|     3|  male|22.0|    1|    0|   7.25|\n",
            "|       1|     1|female|38.0|    1|    0|71.2833|\n",
            "|       1|     3|female|26.0|    0|    0|  7.925|\n",
            "|       1|     1|female|35.0|    1|    0|   53.1|\n",
            "|       0|     3|  male|35.0|    0|    0|   8.05|\n",
            "|       0|     3|  male|null|    0|    0| 8.4583|\n",
            "|       0|     1|  male|54.0|    0|    0|51.8625|\n",
            "|       0|     3|  male| 2.0|    3|    1| 21.075|\n",
            "|       1|     3|female|27.0|    0|    2|11.1333|\n",
            "|       1|     2|female|14.0|    1|    0|30.0708|\n",
            "|       1|     3|female| 4.0|    1|    1|   16.7|\n",
            "|       1|     1|female|58.0|    0|    0|  26.55|\n",
            "|       0|     3|  male|20.0|    0|    0|   8.05|\n",
            "|       0|     3|  male|39.0|    1|    5| 31.275|\n",
            "|       0|     3|female|14.0|    0|    0| 7.8542|\n",
            "|       1|     2|female|55.0|    0|    0|   16.0|\n",
            "|       0|     3|  male| 2.0|    4|    1| 29.125|\n",
            "|       1|     2|  male|null|    0|    0|   13.0|\n",
            "|       0|     3|female|31.0|    1|    0|   18.0|\n",
            "|       1|     3|female|null|    0|    0|  7.225|\n",
            "+--------+------+------+----+-----+-----+-------+\n",
            "only showing top 20 rows\n",
            "\n"
          ],
          "name": "stdout"
        }
      ]
    },
    {
      "cell_type": "markdown",
      "metadata": {
        "id": "Ucie7Nj1nkaD"
      },
      "source": [
        "Age는 평균값으로 채운다"
      ]
    },
    {
      "cell_type": "code",
      "metadata": {
        "id": "zG4rFKaSnpHf"
      },
      "source": [
        "from pyspark.ml.feature import Imputer\n",
        "\n",
        "imputer = Imputer(strategy='mean', inputCols=['Age'], outputCols=['AgeImputed'])\n",
        "imputer_model = imputer.fit(final_data)\n",
        "final_data = imputer_model.transform(final_data)"
      ],
      "execution_count": 37,
      "outputs": []
    },
    {
      "cell_type": "code",
      "metadata": {
        "colab": {
          "base_uri": "https://localhost:8080/"
        },
        "id": "WD8cDy6Onv0X",
        "outputId": "e4fa03ab-cf55-4be8-fc94-01a32a589ef5"
      },
      "source": [
        "final_data.select(\"Age\", \"AgeImputed\").show()"
      ],
      "execution_count": 38,
      "outputs": [
        {
          "output_type": "stream",
          "text": [
            "+----+-----------------+\n",
            "| Age|       AgeImputed|\n",
            "+----+-----------------+\n",
            "|22.0|             22.0|\n",
            "|38.0|             38.0|\n",
            "|26.0|             26.0|\n",
            "|35.0|             35.0|\n",
            "|35.0|             35.0|\n",
            "|null|29.69911764705882|\n",
            "|54.0|             54.0|\n",
            "| 2.0|              2.0|\n",
            "|27.0|             27.0|\n",
            "|14.0|             14.0|\n",
            "| 4.0|              4.0|\n",
            "|58.0|             58.0|\n",
            "|20.0|             20.0|\n",
            "|39.0|             39.0|\n",
            "|14.0|             14.0|\n",
            "|55.0|             55.0|\n",
            "| 2.0|              2.0|\n",
            "|null|29.69911764705882|\n",
            "|31.0|             31.0|\n",
            "|null|29.69911764705882|\n",
            "+----+-----------------+\n",
            "only showing top 20 rows\n",
            "\n"
          ],
          "name": "stdout"
        }
      ]
    },
    {
      "cell_type": "markdown",
      "metadata": {
        "id": "6GFsTmtRn7EW"
      },
      "source": [
        "성별 정보 인코딩: male -> 0, female -> 1"
      ]
    },
    {
      "cell_type": "code",
      "metadata": {
        "id": "5BMZzehCn4s1"
      },
      "source": [
        "from pyspark.ml.feature import StringIndexer\n",
        "\n",
        "gender_indexer = StringIndexer(inputCol='Gender', outputCol='GenderIndexed')\n",
        "gender_indexer_model = gender_indexer.fit(final_data)\n",
        "final_data = gender_indexer_model.transform(final_data)"
      ],
      "execution_count": 39,
      "outputs": []
    },
    {
      "cell_type": "code",
      "metadata": {
        "colab": {
          "base_uri": "https://localhost:8080/"
        },
        "id": "jYSjGzLnoMU2",
        "outputId": "4697d06c-bdf2-439b-93ad-accf92a87ed3"
      },
      "source": [
        "final_data.select(\"Gender\", \"GenderIndexed\").show()"
      ],
      "execution_count": 40,
      "outputs": [
        {
          "output_type": "stream",
          "text": [
            "+------+-------------+\n",
            "|Gender|GenderIndexed|\n",
            "+------+-------------+\n",
            "|  male|          0.0|\n",
            "|female|          1.0|\n",
            "|female|          1.0|\n",
            "|female|          1.0|\n",
            "|  male|          0.0|\n",
            "|  male|          0.0|\n",
            "|  male|          0.0|\n",
            "|  male|          0.0|\n",
            "|female|          1.0|\n",
            "|female|          1.0|\n",
            "|female|          1.0|\n",
            "|female|          1.0|\n",
            "|  male|          0.0|\n",
            "|  male|          0.0|\n",
            "|female|          1.0|\n",
            "|female|          1.0|\n",
            "|  male|          0.0|\n",
            "|  male|          0.0|\n",
            "|female|          1.0|\n",
            "|female|          1.0|\n",
            "+------+-------------+\n",
            "only showing top 20 rows\n",
            "\n"
          ],
          "name": "stdout"
        }
      ]
    },
    {
      "cell_type": "markdown",
      "metadata": {
        "id": "cGMk-ULmLcVM"
      },
      "source": [
        "## 피쳐 벡터를 만들기"
      ]
    },
    {
      "cell_type": "code",
      "metadata": {
        "id": "vBYWOVQYIXEt"
      },
      "source": [
        "from pyspark.ml.feature import VectorAssembler\n",
        "\n",
        "assembler = VectorAssembler(inputCols=['Pclass', 'SibSp', 'Parch', 'Fare', 'AgeImputed', 'GenderIndexed'], outputCol='features')\n",
        "data_vec = assembler.transform(final_data)"
      ],
      "execution_count": 41,
      "outputs": []
    },
    {
      "cell_type": "code",
      "metadata": {
        "colab": {
          "base_uri": "https://localhost:8080/"
        },
        "id": "e0WZHfxmIuxr",
        "outputId": "156283ac-3314-4c49-ec72-9aea66168682"
      },
      "source": [
        "data_vec.show()"
      ],
      "execution_count": 42,
      "outputs": [
        {
          "output_type": "stream",
          "text": [
            "+--------+------+------+----+-----+-----+-------+-----------------+-------------+--------------------+\n",
            "|Survived|Pclass|Gender| Age|SibSp|Parch|   Fare|       AgeImputed|GenderIndexed|            features|\n",
            "+--------+------+------+----+-----+-----+-------+-----------------+-------------+--------------------+\n",
            "|       0|     3|  male|22.0|    1|    0|   7.25|             22.0|          0.0|[3.0,1.0,0.0,7.25...|\n",
            "|       1|     1|female|38.0|    1|    0|71.2833|             38.0|          1.0|[1.0,1.0,0.0,71.2...|\n",
            "|       1|     3|female|26.0|    0|    0|  7.925|             26.0|          1.0|[3.0,0.0,0.0,7.92...|\n",
            "|       1|     1|female|35.0|    1|    0|   53.1|             35.0|          1.0|[1.0,1.0,0.0,53.1...|\n",
            "|       0|     3|  male|35.0|    0|    0|   8.05|             35.0|          0.0|[3.0,0.0,0.0,8.05...|\n",
            "|       0|     3|  male|null|    0|    0| 8.4583|29.69911764705882|          0.0|[3.0,0.0,0.0,8.45...|\n",
            "|       0|     1|  male|54.0|    0|    0|51.8625|             54.0|          0.0|[1.0,0.0,0.0,51.8...|\n",
            "|       0|     3|  male| 2.0|    3|    1| 21.075|              2.0|          0.0|[3.0,3.0,1.0,21.0...|\n",
            "|       1|     3|female|27.0|    0|    2|11.1333|             27.0|          1.0|[3.0,0.0,2.0,11.1...|\n",
            "|       1|     2|female|14.0|    1|    0|30.0708|             14.0|          1.0|[2.0,1.0,0.0,30.0...|\n",
            "|       1|     3|female| 4.0|    1|    1|   16.7|              4.0|          1.0|[3.0,1.0,1.0,16.7...|\n",
            "|       1|     1|female|58.0|    0|    0|  26.55|             58.0|          1.0|[1.0,0.0,0.0,26.5...|\n",
            "|       0|     3|  male|20.0|    0|    0|   8.05|             20.0|          0.0|[3.0,0.0,0.0,8.05...|\n",
            "|       0|     3|  male|39.0|    1|    5| 31.275|             39.0|          0.0|[3.0,1.0,5.0,31.2...|\n",
            "|       0|     3|female|14.0|    0|    0| 7.8542|             14.0|          1.0|[3.0,0.0,0.0,7.85...|\n",
            "|       1|     2|female|55.0|    0|    0|   16.0|             55.0|          1.0|[2.0,0.0,0.0,16.0...|\n",
            "|       0|     3|  male| 2.0|    4|    1| 29.125|              2.0|          0.0|[3.0,4.0,1.0,29.1...|\n",
            "|       1|     2|  male|null|    0|    0|   13.0|29.69911764705882|          0.0|[2.0,0.0,0.0,13.0...|\n",
            "|       0|     3|female|31.0|    1|    0|   18.0|             31.0|          1.0|[3.0,1.0,0.0,18.0...|\n",
            "|       1|     3|female|null|    0|    0|  7.225|29.69911764705882|          1.0|[3.0,0.0,0.0,7.22...|\n",
            "+--------+------+------+----+-----+-----+-------+-----------------+-------------+--------------------+\n",
            "only showing top 20 rows\n",
            "\n"
          ],
          "name": "stdout"
        }
      ]
    },
    {
      "cell_type": "markdown",
      "metadata": {
        "id": "a9R6JKNqGKwW"
      },
      "source": [
        "Age와 Fare의 값을 스케일하는 것이 주요 목표"
      ]
    },
    {
      "cell_type": "markdown",
      "metadata": {
        "id": "AVYzljmlcLZe"
      },
      "source": [
        "### MinMaxScaler 사용\n",
        "* 기본적으로 VectorAssembler로 벡터로 변환된 피쳐컬럼에 적용\n",
        "* MinMaxScaler를 사용하면 AUC의 점수가 0.03정도 올라감"
      ]
    },
    {
      "cell_type": "code",
      "metadata": {
        "id": "uCk0aAnuF3rS"
      },
      "source": [
        "from pyspark.ml.feature import MinMaxScaler\n",
        "\n",
        "age_scaler = MinMaxScaler(inputCol=\"features\", outputCol=\"features_scaled\")\n",
        "age_scaler_model = age_scaler.fit(data_vec)\n",
        "data_vec = age_scaler_model.transform(data_vec)"
      ],
      "execution_count": 43,
      "outputs": []
    },
    {
      "cell_type": "code",
      "metadata": {
        "colab": {
          "base_uri": "https://localhost:8080/"
        },
        "id": "dhFW1EiVHKgL",
        "outputId": "350e75aa-6130-4d33-a3dd-dce7da5a422e"
      },
      "source": [
        "data_vec.select(\"features\", \"features_scaled\").show()"
      ],
      "execution_count": 44,
      "outputs": [
        {
          "output_type": "stream",
          "text": [
            "+--------------------+--------------------+\n",
            "|            features|     features_scaled|\n",
            "+--------------------+--------------------+\n",
            "|[3.0,1.0,0.0,7.25...|[1.0,0.125,0.0,0....|\n",
            "|[1.0,1.0,0.0,71.2...|[0.0,0.125,0.0,0....|\n",
            "|[3.0,0.0,0.0,7.92...|[1.0,0.0,0.0,0.01...|\n",
            "|[1.0,1.0,0.0,53.1...|[0.0,0.125,0.0,0....|\n",
            "|[3.0,0.0,0.0,8.05...|[1.0,0.0,0.0,0.01...|\n",
            "|[3.0,0.0,0.0,8.45...|[1.0,0.0,0.0,0.01...|\n",
            "|[1.0,0.0,0.0,51.8...|(6,[3,4],[0.10122...|\n",
            "|[3.0,3.0,1.0,21.0...|[1.0,0.375,0.1666...|\n",
            "|[3.0,0.0,2.0,11.1...|[1.0,0.0,0.333333...|\n",
            "|[2.0,1.0,0.0,30.0...|[0.5,0.125,0.0,0....|\n",
            "|[3.0,1.0,1.0,16.7...|[1.0,0.125,0.1666...|\n",
            "|[1.0,0.0,0.0,26.5...|[0.0,0.0,0.0,0.05...|\n",
            "|[3.0,0.0,0.0,8.05...|[1.0,0.0,0.0,0.01...|\n",
            "|[3.0,1.0,5.0,31.2...|[1.0,0.125,0.8333...|\n",
            "|[3.0,0.0,0.0,7.85...|[1.0,0.0,0.0,0.01...|\n",
            "|[2.0,0.0,0.0,16.0...|[0.5,0.0,0.0,0.03...|\n",
            "|[3.0,4.0,1.0,29.1...|[1.0,0.5,0.166666...|\n",
            "|[2.0,0.0,0.0,13.0...|[0.5,0.0,0.0,0.02...|\n",
            "|[3.0,1.0,0.0,18.0...|[1.0,0.125,0.0,0....|\n",
            "|[3.0,0.0,0.0,7.22...|[1.0,0.0,0.0,0.01...|\n",
            "+--------------------+--------------------+\n",
            "only showing top 20 rows\n",
            "\n"
          ],
          "name": "stdout"
        }
      ]
    },
    {
      "cell_type": "markdown",
      "metadata": {
        "id": "6kK7gG2JLjy_"
      },
      "source": [
        "## 훈련용과 테스트용 데이터를 나누고 binary classification 모델을 하나 만든다"
      ]
    },
    {
      "cell_type": "code",
      "metadata": {
        "id": "OEmZtDfzIyvc"
      },
      "source": [
        "train, test = data_vec.randomSplit([0.7, 0.3])"
      ],
      "execution_count": 45,
      "outputs": []
    },
    {
      "cell_type": "code",
      "metadata": {
        "id": "y1cKT-0-I2rt"
      },
      "source": [
        "from pyspark.ml.classification import LogisticRegression\n",
        "\n",
        "algo = LogisticRegression(featuresCol=\"features_scaled\", labelCol=\"Survived\")\n",
        "model = algo.fit(train)"
      ],
      "execution_count": 46,
      "outputs": []
    },
    {
      "cell_type": "markdown",
      "metadata": {
        "id": "ELSupsQVLFK-"
      },
      "source": [
        "## 모델 성능 측정"
      ]
    },
    {
      "cell_type": "code",
      "metadata": {
        "id": "LX019b8qqK_d"
      },
      "source": [
        "predictions = model.transform(test)"
      ],
      "execution_count": 47,
      "outputs": []
    },
    {
      "cell_type": "code",
      "metadata": {
        "colab": {
          "base_uri": "https://localhost:8080/"
        },
        "id": "RSYMJJ2WGgG9",
        "outputId": "6385aad8-26a9-4cd2-bbc3-e9bbb63924ed"
      },
      "source": [
        "predictions.groupby(['Survived']).count().collect()"
      ],
      "execution_count": 48,
      "outputs": [
        {
          "output_type": "execute_result",
          "data": {
            "text/plain": [
              "[Row(Survived=1, count=103), Row(Survived=0, count=151)]"
            ]
          },
          "metadata": {
            "tags": []
          },
          "execution_count": 48
        }
      ]
    },
    {
      "cell_type": "code",
      "metadata": {
        "colab": {
          "base_uri": "https://localhost:8080/"
        },
        "id": "Kbrs3RICG1HH",
        "outputId": "74452bea-f6a6-4dfd-929d-9b22dee7962d"
      },
      "source": [
        "predictions.groupby(['prediction']).count().collect()"
      ],
      "execution_count": 49,
      "outputs": [
        {
          "output_type": "execute_result",
          "data": {
            "text/plain": [
              "[Row(prediction=0.0, count=161), Row(prediction=1.0, count=93)]"
            ]
          },
          "metadata": {
            "tags": []
          },
          "execution_count": 49
        }
      ]
    },
    {
      "cell_type": "code",
      "metadata": {
        "colab": {
          "base_uri": "https://localhost:8080/"
        },
        "id": "b_YF28U_qM6b",
        "outputId": "d9673c5b-51b7-4cb2-dafd-63a02eff74a1"
      },
      "source": [
        "predictions.select(['Survived','prediction', 'probability']).show()"
      ],
      "execution_count": 50,
      "outputs": [
        {
          "output_type": "stream",
          "text": [
            "+--------+----------+--------------------+\n",
            "|Survived|prediction|         probability|\n",
            "+--------+----------+--------------------+\n",
            "|       0|       1.0|[0.06206004303384...|\n",
            "|       0|       0.0|[0.53836701134898...|\n",
            "|       0|       0.0|[0.51513189024025...|\n",
            "|       0|       0.0|[0.50901559870101...|\n",
            "|       0|       1.0|[0.45484372352290...|\n",
            "|       0|       1.0|[0.39965210286723...|\n",
            "|       0|       1.0|[0.36124053551875...|\n",
            "|       0|       1.0|[0.42294881380225...|\n",
            "|       0|       1.0|[0.34341956093682...|\n",
            "|       0|       0.0|[0.58503994192044...|\n",
            "|       0|       0.0|[0.50729282165157...|\n",
            "|       0|       0.0|[0.61351644291529...|\n",
            "|       0|       0.0|[0.55918407077182...|\n",
            "|       0|       0.0|[0.60880957269703...|\n",
            "|       0|       0.0|[0.77280375924670...|\n",
            "|       0|       0.0|[0.64729456558891...|\n",
            "|       0|       0.0|[0.64113154521189...|\n",
            "|       0|       0.0|[0.75202597813548...|\n",
            "|       0|       0.0|[0.72407510691860...|\n",
            "|       0|       0.0|[0.75641106225325...|\n",
            "+--------+----------+--------------------+\n",
            "only showing top 20 rows\n",
            "\n"
          ],
          "name": "stdout"
        }
      ]
    },
    {
      "cell_type": "code",
      "metadata": {
        "id": "LDzlKgOTJkTJ",
        "colab": {
          "base_uri": "https://localhost:8080/"
        },
        "outputId": "4c41db62-0f7c-4fbb-d988-c316124cbf18"
      },
      "source": [
        "from pyspark.ml.evaluation import BinaryClassificationEvaluator\n",
        "\n",
        "evaluator = BinaryClassificationEvaluator(labelCol='Survived', metricName='areaUnderROC')\n",
        "evaluator.evaluate(predictions)"
      ],
      "execution_count": 51,
      "outputs": [
        {
          "output_type": "execute_result",
          "data": {
            "text/plain": [
              "0.8752330740050154"
            ]
          },
          "metadata": {
            "tags": []
          },
          "execution_count": 51
        }
      ]
    },
    {
      "cell_type": "code",
      "metadata": {
        "colab": {
          "base_uri": "https://localhost:8080/",
          "height": 0
        },
        "id": "if2lu-WUL_pS",
        "outputId": "96535c26-67b4-4c65-8ea6-ce13f3bccf68"
      },
      "source": [
        "import matplotlib.pyplot as plt\n",
        "\n",
        "plt.figure(figsize=(5,5))\n",
        "plt.plot([0, 1], [0, 1], 'r--')\n",
        "plt.plot(model.summary.roc.select('FPR').collect(),\n",
        "         model.summary.roc.select('TPR').collect())\n",
        "plt.xlabel('FPR')\n",
        "plt.ylabel('TPR')\n",
        "plt.show()"
      ],
      "execution_count": 52,
      "outputs": [
        {
          "output_type": "display_data",
          "data": {
            "image/png": "[encoded data removed]",
            "text/plain": [
              "<Figure size 360x360 with 1 Axes>"
            ]
          },
          "metadata": {
            "tags": [],
            "needs_background": "light"
          }
        }
      ]
    },
    {
      "cell_type": "markdown",
      "metadata": {
        "id": "7N6Cy7nFQ1GS"
      },
      "source": [
        "# *ML* Pipeline 만들기"
      ]
    },
    {
      "cell_type": "code",
      "metadata": {
        "id": "gbCJ4k-jRCzH"
      },
      "source": [
        "from pyspark.ml.feature import Imputer, StringIndexer, VectorAssembler, MinMaxScaler\n",
        "\n",
        "# Gender\n",
        "stringIndexer = StringIndexer(inputCol = \"Gender\", outputCol = 'GenderIndexed')\n",
        "\n",
        "# Age\n",
        "imputer = Imputer(strategy='mean', inputCols=['Age'], outputCols=['AgeImputed'])\n",
        "\n",
        "# Vectorize\n",
        "inputCols = ['Pclass', 'SibSp', 'Parch', 'Fare', 'AgeImputed', 'GenderIndexed']\n",
        "assembler = VectorAssembler(inputCols=inputCols, outputCol=\"features\")\n",
        "\n",
        "# MinMaxScaler\n",
        "minmax_scaler = MinMaxScaler(inputCol=\"features\", outputCol=\"features_scaled\")\n",
        "\n",
        "stages = [stringIndexer, imputer, assembler, minmax_scaler]"
      ],
      "execution_count": 53,
      "outputs": []
    },
    {
      "cell_type": "code",
      "metadata": {
        "id": "pFZPcnsUWzLV"
      },
      "source": [
        "from pyspark.ml.classification import LogisticRegression\n",
        "\n",
        "algo = LogisticRegression(featuresCol=\"features_scaled\", labelCol=\"Survived\")\n",
        "lr_stages = stages + [algo]"
      ],
      "execution_count": 54,
      "outputs": []
    },
    {
      "cell_type": "code",
      "metadata": {
        "colab": {
          "base_uri": "https://localhost:8080/"
        },
        "id": "x89uL_TbW1hG",
        "outputId": "9637232c-2756-4f15-873f-6e54e08f8fc6"
      },
      "source": [
        "lr_stages"
      ],
      "execution_count": 55,
      "outputs": [
        {
          "output_type": "execute_result",
          "data": {
            "text/plain": [
              "[StringIndexer_9c6e7eb0ea67,\n",
              " Imputer_4f3d892cbcb9,\n",
              " VectorAssembler_b3585ce3b552,\n",
              " MinMaxScaler_2856724fd8b6,\n",
              " LogisticRegression_c134836c5e5c]"
            ]
          },
          "metadata": {
            "tags": []
          },
          "execution_count": 55
        }
      ]
    },
    {
      "cell_type": "markdown",
      "metadata": {
        "id": "Vty5ilXdbdoX"
      },
      "source": [
        "### Pipeline object 만들기"
      ]
    },
    {
      "cell_type": "code",
      "metadata": {
        "id": "A57iMZAxOHyo"
      },
      "source": [
        "from pyspark.ml import Pipeline\n",
        "pipeline = Pipeline(stages = lr_stages)"
      ],
      "execution_count": 56,
      "outputs": []
    },
    {
      "cell_type": "code",
      "metadata": {
        "colab": {
          "base_uri": "https://localhost:8080/"
        },
        "id": "Io5STglST9rG",
        "outputId": "3010db33-ef3e-4162-8c34-d500221af753"
      },
      "source": [
        "df = data.select(['Survived', 'Pclass', 'Gender', 'Age', 'SibSp', 'Parch', 'Fare'])\n",
        "df.show()"
      ],
      "execution_count": 57,
      "outputs": [
        {
          "output_type": "stream",
          "text": [
            "+--------+------+------+----+-----+-----+-------+\n",
            "|Survived|Pclass|Gender| Age|SibSp|Parch|   Fare|\n",
            "+--------+------+------+----+-----+-----+-------+\n",
            "|       0|     3|  male|22.0|    1|    0|   7.25|\n",
            "|       1|     1|female|38.0|    1|    0|71.2833|\n",
            "|       1|     3|female|26.0|    0|    0|  7.925|\n",
            "|       1|     1|female|35.0|    1|    0|   53.1|\n",
            "|       0|     3|  male|35.0|    0|    0|   8.05|\n",
            "|       0|     3|  male|null|    0|    0| 8.4583|\n",
            "|       0|     1|  male|54.0|    0|    0|51.8625|\n",
            "|       0|     3|  male| 2.0|    3|    1| 21.075|\n",
            "|       1|     3|female|27.0|    0|    2|11.1333|\n",
            "|       1|     2|female|14.0|    1|    0|30.0708|\n",
            "|       1|     3|female| 4.0|    1|    1|   16.7|\n",
            "|       1|     1|female|58.0|    0|    0|  26.55|\n",
            "|       0|     3|  male|20.0|    0|    0|   8.05|\n",
            "|       0|     3|  male|39.0|    1|    5| 31.275|\n",
            "|       0|     3|female|14.0|    0|    0| 7.8542|\n",
            "|       1|     2|female|55.0|    0|    0|   16.0|\n",
            "|       0|     3|  male| 2.0|    4|    1| 29.125|\n",
            "|       1|     2|  male|null|    0|    0|   13.0|\n",
            "|       0|     3|female|31.0|    1|    0|   18.0|\n",
            "|       1|     3|female|null|    0|    0|  7.225|\n",
            "+--------+------+------+----+-----+-----+-------+\n",
            "only showing top 20 rows\n",
            "\n"
          ],
          "name": "stdout"
        }
      ]
    },
    {
      "cell_type": "code",
      "metadata": {
        "id": "-wULM_P9vpe4"
      },
      "source": [
        "train, test = df.randomSplit([0.7, 0.3])"
      ],
      "execution_count": 58,
      "outputs": []
    },
    {
      "cell_type": "code",
      "metadata": {
        "colab": {
          "base_uri": "https://localhost:8080/"
        },
        "id": "7Hl1MLmXvS2D",
        "outputId": "5af2407d-735f-4a53-dbbc-3d455bfe51d5"
      },
      "source": [
        "lr_model = pipeline.fit(train)\n",
        "lr_cv_predictions = lr_model.transform(test)\n",
        "evaluator.evaluate(lr_cv_predictions)"
      ],
      "execution_count": 59,
      "outputs": [
        {
          "output_type": "execute_result",
          "data": {
            "text/plain": [
              "0.874945054945055"
            ]
          },
          "metadata": {
            "tags": []
          },
          "execution_count": 59
        }
      ]
    },
    {
      "cell_type": "markdown",
      "metadata": {
        "id": "UJhhv5JlZEav"
      },
      "source": [
        "## ML Tuning"
      ]
    },
    {
      "cell_type": "code",
      "metadata": {
        "id": "PFi81iuQZvsz"
      },
      "source": [
        "from pyspark.ml.evaluation import BinaryClassificationEvaluator\n",
        "\n",
        "evaluator = BinaryClassificationEvaluator(labelCol='Survived', metricName='areaUnderROC')"
      ],
      "execution_count": 60,
      "outputs": []
    },
    {
      "cell_type": "code",
      "metadata": {
        "id": "yMHIqd_PVbDO"
      },
      "source": [
        "from pyspark.ml.tuning import ParamGridBuilder, CrossValidator\n",
        "\n",
        "paramGrid = (ParamGridBuilder()\n",
        "             .addGrid(algo.maxIter, [1, 5, 10])\n",
        "             .build())\n",
        "\n",
        "cv = CrossValidator(\n",
        "    estimator=pipeline,\n",
        "    estimatorParamMaps=paramGrid,\n",
        "    evaluator=evaluator,\n",
        "    numFolds=5\n",
        ")\n"
      ],
      "execution_count": 61,
      "outputs": []
    },
    {
      "cell_type": "code",
      "metadata": {
        "colab": {
          "base_uri": "https://localhost:8080/"
        },
        "id": "LR15O3idaZPy",
        "outputId": "fd20b578-438a-4130-8f03-228c6f4718e5"
      },
      "source": [
        "# Run cross validations.\n",
        "cvModel = cv.fit(train)\n",
        "lr_cv_predictions = cvModel.transform(test)\n",
        "evaluator.evaluate(lr_cv_predictions)"
      ],
      "execution_count": 62,
      "outputs": [
        {
          "output_type": "execute_result",
          "data": {
            "text/plain": [
              "0.8754945054945055"
            ]
          },
          "metadata": {
            "tags": []
          },
          "execution_count": 62
        }
      ]
    },
    {
      "cell_type": "code",
      "metadata": {
        "colab": {
          "base_uri": "https://localhost:8080/"
        },
        "id": "eUDNPbwXaqX8",
        "outputId": "11097f1b-1308-49f4-8c7f-9f409c8bfc62"
      },
      "source": [
        "lr_cv_predictions.select(\"prediction\", \"survived\").show()"
      ],
      "execution_count": 63,
      "outputs": [
        {
          "output_type": "stream",
          "text": [
            "+----------+--------+\n",
            "|prediction|survived|\n",
            "+----------+--------+\n",
            "|       1.0|       0|\n",
            "|       1.0|       0|\n",
            "|       1.0|       0|\n",
            "|       1.0|       0|\n",
            "|       0.0|       0|\n",
            "|       1.0|       0|\n",
            "|       0.0|       0|\n",
            "|       0.0|       0|\n",
            "|       0.0|       0|\n",
            "|       0.0|       0|\n",
            "|       0.0|       0|\n",
            "|       0.0|       0|\n",
            "|       0.0|       0|\n",
            "|       0.0|       0|\n",
            "|       0.0|       0|\n",
            "|       0.0|       0|\n",
            "|       0.0|       0|\n",
            "|       0.0|       0|\n",
            "|       0.0|       0|\n",
            "|       0.0|       0|\n",
            "+----------+--------+\n",
            "only showing top 20 rows\n",
            "\n"
          ],
          "name": "stdout"
        }
      ]
    },
    {
      "cell_type": "code",
      "metadata": {
        "colab": {
          "base_uri": "https://localhost:8080/",
          "height": 142
        },
        "id": "-PoqCzfFfLo0",
        "outputId": "689b64d7-5f7b-4276-8b24-004d1edcbde6"
      },
      "source": [
        "import pandas as pd\n",
        "\n",
        "params = [{p.name: v for p, v in m.items()} for m in cvModel.getEstimatorParamMaps()]\n",
        "pd.DataFrame.from_dict([\n",
        "    {cvModel.getEvaluator().getMetricName(): metric, **ps} \n",
        "    for ps, metric in zip(params, cvModel.avgMetrics)\n",
        "])"
      ],
      "execution_count": 64,
      "outputs": [
        {
          "output_type": "execute_result",
          "data": {
            "text/html": [
              "<div>\n",
              "<style scoped>\n",
              "    .dataframe tbody tr th:only-of-type {\n",
              "        vertical-align: middle;\n",
              "    }\n",
              "\n",
              "    .dataframe tbody tr th {\n",
              "        vertical-align: top;\n",
              "    }\n",
              "\n",
              "    .dataframe thead th {\n",
              "        text-align: right;\n",
              "    }\n",
              "</style>\n",
              "<table border=\"1\" class=\"dataframe\">\n",
              "  <thead>\n",
              "    <tr style=\"text-align: right;\">\n",
              "      <th></th>\n",
              "      <th>areaUnderROC</th>\n",
              "      <th>maxIter</th>\n",
              "    </tr>\n",
              "  </thead>\n",
              "  <tbody>\n",
              "    <tr>\n",
              "      <th>0</th>\n",
              "      <td>0.823336</td>\n",
              "      <td>1</td>\n",
              "    </tr>\n",
              "    <tr>\n",
              "      <th>1</th>\n",
              "      <td>0.829569</td>\n",
              "      <td>5</td>\n",
              "    </tr>\n",
              "    <tr>\n",
              "      <th>2</th>\n",
              "      <td>0.837002</td>\n",
              "      <td>10</td>\n",
              "    </tr>\n",
              "  </tbody>\n",
              "</table>\n",
              "</div>"
            ],
            "text/plain": [
              "   areaUnderROC  maxIter\n",
              "0      0.823336        1\n",
              "1      0.829569        5\n",
              "2      0.837002       10"
            ]
          },
          "metadata": {
            "tags": []
          },
          "execution_count": 64
        }
      ]
    },
    {
      "cell_type": "markdown",
      "metadata": {
        "id": "Wa7I6AxEkCLS"
      },
      "source": [
        "## GBT Classifier"
      ]
    },
    {
      "cell_type": "code",
      "metadata": {
        "id": "MDSck7Oijf6X"
      },
      "source": [
        "from pyspark.ml.classification import GBTClassifier\n",
        "\n",
        "gbt = GBTClassifier(featuresCol=\"features_scaled\", labelCol=\"Survived\")\n",
        "gbt_stages = stages + [gbt]"
      ],
      "execution_count": 65,
      "outputs": []
    },
    {
      "cell_type": "code",
      "metadata": {
        "colab": {
          "base_uri": "https://localhost:8080/"
        },
        "id": "uWH4iSGE_LwH",
        "outputId": "f635a7df-d69b-4f74-8b8d-4aedb0439271"
      },
      "source": [
        "gbt_stages"
      ],
      "execution_count": 66,
      "outputs": [
        {
          "output_type": "execute_result",
          "data": {
            "text/plain": [
              "[StringIndexer_9c6e7eb0ea67,\n",
              " Imputer_4f3d892cbcb9,\n",
              " VectorAssembler_b3585ce3b552,\n",
              " MinMaxScaler_2856724fd8b6,\n",
              " GBTClassifier_f1e9e541ffaa]"
            ]
          },
          "metadata": {
            "tags": []
          },
          "execution_count": 66
        }
      ]
    },
    {
      "cell_type": "code",
      "metadata": {
        "id": "zsfALF_VlORx"
      },
      "source": [
        "from pyspark.ml import Pipeline\n",
        "pipeline = Pipeline(stages = gbt_stages)"
      ],
      "execution_count": 67,
      "outputs": []
    },
    {
      "cell_type": "code",
      "metadata": {
        "id": "Nxp5LL6Fk4nI"
      },
      "source": [
        "from pyspark.ml.tuning import ParamGridBuilder, CrossValidator\n",
        "\n",
        "paramGrid = (ParamGridBuilder()\n",
        "             .addGrid(gbt.maxDepth, [2, 4, 6])\n",
        "             .addGrid(gbt.maxBins, [20, 60])\n",
        "             .addGrid(gbt.maxIter, [10, 20])\n",
        "             .build())\n",
        "\n",
        "cv = CrossValidator(\n",
        "    estimator=pipeline,\n",
        "    estimatorParamMaps=paramGrid,\n",
        "    evaluator=evaluator,\n",
        "    numFolds=5\n",
        ")"
      ],
      "execution_count": 68,
      "outputs": []
    },
    {
      "cell_type": "code",
      "metadata": {
        "colab": {
          "base_uri": "https://localhost:8080/"
        },
        "id": "nDx7Ui-_la65",
        "outputId": "1db65ad9-3c78-4b84-e669-0217dd0578e8"
      },
      "source": [
        "# Run cross validations.\n",
        "cvModel = cv.fit(train)\n",
        "lr_cv_predictions = cvModel.transform(test)\n",
        "evaluator.evaluate(lr_cv_predictions)"
      ],
      "execution_count": 69,
      "outputs": [
        {
          "output_type": "execute_result",
          "data": {
            "text/plain": [
              "0.8743406593406594"
            ]
          },
          "metadata": {
            "tags": []
          },
          "execution_count": 69
        }
      ]
    },
    {
      "cell_type": "code",
      "metadata": {
        "id": "XIxjx2wHlbuM"
      },
      "source": [
        ""
      ],
      "execution_count": null,
      "outputs": []
    }
  ]
}